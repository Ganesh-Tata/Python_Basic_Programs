{
 "cells": [
  {
   "cell_type": "code",
   "execution_count": 3,
   "id": "4298e0f4-602d-48c6-8d33-9c6835164774",
   "metadata": {},
   "outputs": [
    {
     "name": "stdin",
     "output_type": "stream",
     "text": [
      "enter the size of n: 5\n"
     ]
    },
    {
     "name": "stdout",
     "output_type": "stream",
     "text": [
      "^ ^ ^ ^ ^ \n",
      "^ ^ ^ ^ ^ \n",
      "^ ^ ^ ^ ^ \n",
      "^ ^ ^ ^ ^ \n",
      "^ ^ ^ ^ ^ \n"
     ]
    }
   ],
   "source": [
    "#nested loops\n",
    "n= int(input(\"enter the size of n:\"))\n",
    "for i  in range(n):\n",
    "    for j in range(n):\n",
    "        print('^',end=' ')\n",
    "    print()"
   ]
  },
  {
   "cell_type": "code",
   "execution_count": 5,
   "id": "2e677f61-d84a-48a8-b282-fed03f148d31",
   "metadata": {},
   "outputs": [
    {
     "name": "stdin",
     "output_type": "stream",
     "text": [
      "enter the size of n: 5\n"
     ]
    },
    {
     "name": "stdout",
     "output_type": "stream",
     "text": [
      "0 1 2 3 4 \n",
      "0 1 2 3 4 \n",
      "0 1 2 3 4 \n",
      "0 1 2 3 4 \n",
      "0 1 2 3 4 \n"
     ]
    }
   ],
   "source": [
    "n= int(input(\"enter the size of n:\"))\n",
    "for i  in range(n):\n",
    "    for j in range(n):\n",
    "        print(j,end=' ')\n",
    "    print()"
   ]
  },
  {
   "cell_type": "code",
   "execution_count": 7,
   "id": "1e161a83-c9ab-41f8-9e60-ffbdf7d88227",
   "metadata": {},
   "outputs": [
    {
     "name": "stdin",
     "output_type": "stream",
     "text": [
      "enter the size of n: 5\n"
     ]
    },
    {
     "name": "stdout",
     "output_type": "stream",
     "text": [
      "0 0 0 0 0 \n",
      "1 1 1 1 1 \n",
      "2 2 2 2 2 \n",
      "3 3 3 3 3 \n",
      "4 4 4 4 4 \n"
     ]
    }
   ],
   "source": [
    "n= int(input(\"enter the size of n:\"))\n",
    "for i  in range(n):\n",
    "    for j in range(n):\n",
    "        print(i,end=' ')\n",
    "    print()"
   ]
  },
  {
   "cell_type": "code",
   "execution_count": 9,
   "id": "1a748033-aeb7-4121-9337-28e739a9392b",
   "metadata": {},
   "outputs": [
    {
     "name": "stdin",
     "output_type": "stream",
     "text": [
      "enter a number: 5\n"
     ]
    },
    {
     "name": "stdout",
     "output_type": "stream",
     "text": [
      "\n",
      "* \n",
      "* * \n",
      "* * * \n",
      "* * * * \n"
     ]
    }
   ],
   "source": [
    "# right angle triangle\n",
    "n=int(input('enter a number:'))\n",
    "for i in range(n):\n",
    "    for j in range(i):\n",
    "        print('*',end=' ')\n",
    "    print()"
   ]
  },
  {
   "cell_type": "code",
   "execution_count": 17,
   "id": "41e58d7c-b97e-4235-801a-e9741bd8a9eb",
   "metadata": {},
   "outputs": [
    {
     "name": "stdin",
     "output_type": "stream",
     "text": [
      "enter a number: 5\n"
     ]
    },
    {
     "name": "stdout",
     "output_type": "stream",
     "text": [
      "\n",
      " * \n",
      " *  * \n",
      " *  *  * \n",
      " *  *  *  * \n"
     ]
    }
   ],
   "source": [
    "# right angle triangle using a single for loop\n",
    "n=int(input('enter a number:'))\n",
    "for i in range(n):\n",
    "    print(' * ' *i)"
   ]
  },
  {
   "cell_type": "code",
   "execution_count": 37,
   "id": "e189c108-818e-4aaf-aa22-228615ce1a63",
   "metadata": {},
   "outputs": [
    {
     "name": "stdin",
     "output_type": "stream",
     "text": [
      "enter a number: 5\n"
     ]
    },
    {
     "name": "stdout",
     "output_type": "stream",
     "text": [
      "* * * * * \n",
      "* * * * \n",
      "* * * \n",
      "* * \n",
      "* \n"
     ]
    }
   ],
   "source": [
    "# right angled triangel mirror image\n",
    "n= int(input('enter a number:'))\n",
    "for i in range(n):\n",
    "    for j in range(n-i):\n",
    "        print(\"*\",end=' ')\n",
    "    print()    "
   ]
  },
  {
   "cell_type": "code",
   "execution_count": 39,
   "id": "ffb4dd35-8d7a-4977-9593-2b8d9f98274c",
   "metadata": {},
   "outputs": [
    {
     "name": "stdout",
     "output_type": "stream",
     "text": [
      "* \n",
      "* * \n",
      "* * * \n",
      "* * * * \n",
      "* * * * * \n",
      "* * * * \n",
      "* * * \n",
      "* * \n",
      "* \n"
     ]
    }
   ],
   "source": [
    "n=5\n",
    "for i in range(1,2*n):\n",
    "    s=i if i<=n else 2*n-i\n",
    "    for j in range(s):\n",
    "        print(\"*\", end=' ')\n",
    "    print()"
   ]
  },
  {
   "cell_type": "code",
   "execution_count": 45,
   "id": "9f8d4cdb-b11e-401c-8e1b-713298bcbdee",
   "metadata": {},
   "outputs": [
    {
     "name": "stdin",
     "output_type": "stream",
     "text": [
      "enter a number: 5\n"
     ]
    },
    {
     "name": "stdout",
     "output_type": "stream",
     "text": [
      "* \n",
      "* * \n",
      "* * * \n",
      "* * * * \n",
      "* * * * * \n",
      "* * * * \n",
      "* * * \n",
      "* * \n",
      "* \n",
      "\n"
     ]
    }
   ],
   "source": [
    "n=int(input('enter a number:'))\n",
    "for i in range(1,n+1):\n",
    "    for j in range(i):\n",
    "        print(\"*\",end=' ')\n",
    "    print()\n",
    "for i in range(1,n+1):\n",
    "    for j in range(n-i):\n",
    "        print(\"*\",end=' ')\n",
    "    print()"
   ]
  },
  {
   "cell_type": "code",
   "execution_count": 21,
   "id": "04326241-9099-4711-942e-d29ed0b922ca",
   "metadata": {},
   "outputs": [
    {
     "name": "stdin",
     "output_type": "stream",
     "text": [
      "enter a number: 5\n"
     ]
    },
    {
     "name": "stdout",
     "output_type": "stream",
     "text": [
      "* * * * * \n",
      "*       * \n",
      "*       * \n",
      "*       * \n",
      "* * * * * \n"
     ]
    }
   ],
   "source": [
    "#hallow rectangle\n",
    "n=int(input('enter a number:'))\n",
    "for i in range(n):\n",
    "    for j in range(n):\n",
    "        if i==0 or i==n-1 or j==0 or j==n-1:\n",
    "            print('*',end=' ')\n",
    "        else:\n",
    "            print(' ',end=\" \")\n",
    "    print()"
   ]
  },
  {
   "cell_type": "code",
   "execution_count": 25,
   "id": "838f4ebc-1407-45a4-8b3c-a89ada069f45",
   "metadata": {},
   "outputs": [
    {
     "name": "stdin",
     "output_type": "stream",
     "text": [
      "enter a number: 5\n"
     ]
    },
    {
     "name": "stdout",
     "output_type": "stream",
     "text": [
      "* * * * * \n",
      "* *     * \n",
      "*   *   * \n",
      "*     * * \n",
      "* * * * * \n"
     ]
    }
   ],
   "source": [
    "#Hallow rectangle with Diagonal intersectiom\n",
    "n=int(input('enter a number:'))\n",
    "for i in range(n):\n",
    "    for j in range(n):\n",
    "        if i==0 or i==n-1 or j==0 or j==n-1 or i==j :\n",
    "            print('*',end=' ')\n",
    "        else:\n",
    "            print(' ',end=\" \")\n",
    "    print()"
   ]
  },
  {
   "cell_type": "code",
   "execution_count": 27,
   "id": "4248d007-f3ed-469f-8a08-4203331ee832",
   "metadata": {},
   "outputs": [
    {
     "name": "stdin",
     "output_type": "stream",
     "text": [
      "enter a number: 5\n"
     ]
    },
    {
     "name": "stdout",
     "output_type": "stream",
     "text": [
      "* * * * * \n",
      "* *   * * \n",
      "*   *   * \n",
      "* *   * * \n",
      "* * * * * \n"
     ]
    }
   ],
   "source": [
    "# Hallow Rectanle with intersection \n",
    "n=int(input('enter a number:'))\n",
    "for i in range(n):\n",
    "    for j in range(n):\n",
    "        if i==0 or i==n-1 or j==0 or j==n-1 or i==j or i+j==n-1:\n",
    "            print('*',end=' ')\n",
    "        else:\n",
    "            print(' ',end=\" \")\n",
    "    print()"
   ]
  },
  {
   "cell_type": "code",
   "execution_count": 29,
   "id": "8387360d-2ba9-47b1-89a0-3e3e9c718e05",
   "metadata": {},
   "outputs": [
    {
     "name": "stdin",
     "output_type": "stream",
     "text": [
      "enter a number: 5\n"
     ]
    },
    {
     "name": "stdout",
     "output_type": "stream",
     "text": [
      "*       * \n",
      "  *   *   \n",
      "    *     \n",
      "  *   *   \n",
      "*       * \n"
     ]
    }
   ],
   "source": [
    "# X patttern\n",
    "n=int(input('enter a number:'))\n",
    "for i in range(n):\n",
    "    for j in range(n):\n",
    "        if i==j or i+j==n-1:\n",
    "            print('*',end=' ')\n",
    "        else:\n",
    "            print(' ',end=\" \")\n",
    "    print()"
   ]
  },
  {
   "cell_type": "code",
   "execution_count": 33,
   "id": "b5c81377-da12-47da-800b-1eccd719f5b8",
   "metadata": {},
   "outputs": [
    {
     "name": "stdin",
     "output_type": "stream",
     "text": [
      "enter a number: 5\n"
     ]
    },
    {
     "name": "stdout",
     "output_type": "stream",
     "text": [
      "* * * * * \n",
      "  *   *   \n",
      "    *     \n",
      "  *   *   \n",
      "* * * * * \n"
     ]
    }
   ],
   "source": [
    "#sand box\n",
    "n=int(input('enter a number:'))\n",
    "for i in range(n):\n",
    "    for j in range(n):\n",
    "        if i==0 or i==n-1 or i==j or i+j==n-1:\n",
    "            print('*',end=' ')\n",
    "        else:\n",
    "            print(' ',end=\" \")\n",
    "    print()"
   ]
  },
  {
   "cell_type": "code",
   "execution_count": 43,
   "id": "e33e69bd-de72-4730-bc26-20c42ff41722",
   "metadata": {},
   "outputs": [
    {
     "name": "stdin",
     "output_type": "stream",
     "text": [
      "enter a number: 5\n"
     ]
    },
    {
     "name": "stdout",
     "output_type": "stream",
     "text": [
      "*       * \n",
      "* *   * * \n",
      "*   *   * \n",
      "* *   * * \n",
      "*       * \n"
     ]
    }
   ],
   "source": [
    "#Butterfly\n",
    "n=int(input('enter a number:'))\n",
    "for i in range(n):\n",
    "    for j in range(n):\n",
    "        if j==0 or j==n-1 or i==j or i+j==n-1:\n",
    "            print('*',end=' ')\n",
    "        else:\n",
    "            print(' ',end=\" \")\n",
    "    print()"
   ]
  },
  {
   "cell_type": "code",
   "execution_count": 23,
   "id": "ca18ee28-1e46-40cf-924a-fafe1d521ff8",
   "metadata": {},
   "outputs": [
    {
     "name": "stdout",
     "output_type": "stream",
     "text": [
      "g \n",
      "g a \n",
      "g a n \n",
      "g a n e \n",
      "g a n e s \n",
      "g a n e s h \n"
     ]
    }
   ],
   "source": [
    "text='ganesh'\n",
    "r=len(text)\n",
    "for i in range(r):\n",
    "    for j in range(i+1):\n",
    "        print(text[j],end=' ')\n",
    "    print()"
   ]
  },
  {
   "cell_type": "code",
   "execution_count": 47,
   "id": "14919cdd-2712-4ec3-8948-05ffd48d3b32",
   "metadata": {},
   "outputs": [
    {
     "name": "stdout",
     "output_type": "stream",
     "text": [
      "        * \n",
      "      * * * \n",
      "    * * * * * \n",
      "  * * * * * * * \n",
      "* * * * * * * * * \n"
     ]
    }
   ],
   "source": [
    "# trianlge\n",
    "n=5\n",
    "for i in range(1,n+1):\n",
    "    for s in range(n-i):\n",
    "        print(' ', end=' ')\n",
    "    for st in range(2*i-1):\n",
    "        print('*',end= \" \")\n",
    "    print()"
   ]
  },
  {
   "cell_type": "code",
   "execution_count": 53,
   "id": "6b69354a-55c5-40cc-b91d-fd1e97690a15",
   "metadata": {},
   "outputs": [
    {
     "name": "stdin",
     "output_type": "stream",
     "text": [
      "enter a number: 6\n"
     ]
    },
    {
     "name": "stdout",
     "output_type": "stream",
     "text": [
      "          1   \n",
      "        1   1   \n",
      "      1   2   1   \n",
      "    1   3   3   1   \n",
      "  1   4   6   4   1   \n",
      "1   5   10   10   5   1   \n"
     ]
    }
   ],
   "source": [
    "#pascal triangle\n",
    "n=int(input('enter a number:'))\n",
    "for i in range(n):\n",
    "    for s in range(n-i-1):\n",
    "        print(' ', end=' ')\n",
    "    num=1\n",
    "    for j in range(i+1):\n",
    "        print(f'{num} ',end='  ')\n",
    "        num=num*(i-j)//(j+1)\n",
    "    print()"
   ]
  },
  {
   "cell_type": "code",
   "execution_count": 73,
   "id": "53f6733a-0de4-4948-8790-90aa98c93eba",
   "metadata": {},
   "outputs": [
    {
     "name": "stdout",
     "output_type": "stream",
     "text": [
      "1 \n",
      "2 3 \n",
      "4 5 6 \n",
      "7 8 9 10 \n"
     ]
    }
   ],
   "source": [
    "# floyds triangle\n",
    "n=1\n",
    "for i in range(1,5):\n",
    "    for j in range(i):\n",
    "        print(n,end=\" \")\n",
    "        n+=1\n",
    "    print()"
   ]
  },
  {
   "cell_type": "code",
   "execution_count": 21,
   "id": "cce6d7ba-6bcf-498b-9414-5ae45439444a",
   "metadata": {},
   "outputs": [
    {
     "name": "stdout",
     "output_type": "stream",
     "text": [
      "     *\n",
      "    **\n",
      "   ***\n",
      "  ****\n",
      " *****\n"
     ]
    }
   ],
   "source": [
    "n=5\n",
    "for i in range(1,n+1):\n",
    "    print(' '*(n-i),end=\" \")\n",
    "    for j in range(i):\n",
    "        print('*',end='')\n",
    "    print()"
   ]
  },
  {
   "cell_type": "code",
   "execution_count": 29,
   "id": "89eff4d3-f153-4c0a-b38a-1befd1361ef4",
   "metadata": {},
   "outputs": [
    {
     "name": "stdout",
     "output_type": "stream",
     "text": [
      "    * \n",
      "   * * \n",
      "  * * * \n",
      " * * * * \n",
      "* * * * * \n",
      " * * * * \n",
      "  * * * \n",
      "   * * \n",
      "    * \n"
     ]
    }
   ],
   "source": [
    "#Diamond\n",
    "n=5\n",
    "for i in range(1,n+1):\n",
    "    print(' '*(n-i),end=\"\")\n",
    "    for j in range(i):\n",
    "        print('* ',end='')\n",
    "    print()\n",
    "for i in range(n-1,0,-1):\n",
    "    print(' '*(n-i),end=\"\")\n",
    "    for j in range(i):\n",
    "        print('* ',end='')\n",
    "    print()"
   ]
  },
  {
   "cell_type": "code",
   "execution_count": null,
   "id": "9d5456ca-fef0-40ac-9f3e-480f7fcbd569",
   "metadata": {},
   "outputs": [],
   "source": []
  }
 ],
 "metadata": {
  "kernelspec": {
   "display_name": "Python 3 (ipykernel)",
   "language": "python",
   "name": "python3"
  },
  "language_info": {
   "codemirror_mode": {
    "name": "ipython",
    "version": 3
   },
   "file_extension": ".py",
   "mimetype": "text/x-python",
   "name": "python",
   "nbconvert_exporter": "python",
   "pygments_lexer": "ipython3",
   "version": "3.12.7"
  }
 },
 "nbformat": 4,
 "nbformat_minor": 5
}
