{
 "cells": [
  {
   "cell_type": "code",
   "execution_count": null,
   "id": "0ac5f266-6526-41a0-8d85-845dbb86de04",
   "metadata": {},
   "outputs": [],
   "source": [
    "'''\n",
    "built in and user defined Exception base classs for all exceptions \n",
    "StopException-generated method does not point any object\n",
    "SystemExit-sys.exit()\n",
    "StandardError-except stopiteration and system exit\n",
    "ArtimeticError-math calc error\n",
    "OverflowError-numerical cla exceed\n",
    "ZeroDivisionError-0 divide\n",
    "FloatingPointError-3.14159\n",
    "AssertionError-assert statement fails\n",
    "AttributeError-function parameter balancing of the attributes\n",
    "EOFError-no input and output in the function calling and I/O recognition \n",
    "example:\n",
    "-----------------------------------------------------------------------------------------------------\n",
    "def add(a,b):   here we declard the function and no0t given any input and directly calling the output\n",
    "    return a+b\n",
    "add(a,b)\n",
    "------------------------------------------------------------------------------------------------------\n",
    "ImportError-reading file error\n",
    "KeyboardInterrupt-calling a unwanted keyboard input by the user\n",
    "LookupError-lookup errors \n",
    "example:\n",
    "--------------------------------\n",
    "for:\n",
    "    for:\n",
    "    for:\n",
    "    for:\n",
    "for:\n",
    "    for:\n",
    "        for:\n",
    "            for:\n",
    "---------------------------------\n",
    "IndexError-calling a value out of index eroor\n",
    "NameError-calling a not decalred variable\n",
    "EnvironmentError-unsupported function in the program\n",
    "IOError-file opening\n",
    "SyntaxError-Due to improper syntax\n",
    "ValueError-Giving value to the unsupported data type\n",
    "RuntimeError-causes error at the output terminal\n",
    "TypeError-mixing of the various charactes to the numerical type of data\n",
    "TimeExceptionError-Running the function more than the requied time\n",
    "'''"
   ]
  },
  {
   "cell_type": "code",
   "execution_count": null,
   "id": "11d84d90-753e-4927-ab3a-9349f20266ad",
   "metadata": {},
   "outputs": [],
   "source": [
    "'''\n",
    "syntax\n",
    "try:\n",
    "    statement(s)\n",
    "    statement(s)\n",
    "exception ExceptionName:\n",
    "'''"
   ]
  },
  {
   "cell_type": "code",
   "execution_count": 29,
   "id": "534ee34a-455b-4495-b57d-d3bd35fa0f21",
   "metadata": {},
   "outputs": [
    {
     "name": "stdin",
     "output_type": "stream",
     "text": [
      "enter a numerator: 9\n",
      "enter denominnator: 0\n"
     ]
    },
    {
     "name": "stdout",
     "output_type": "stream",
     "text": [
      "Denominator cannot be a zero...\n"
     ]
    }
   ],
   "source": [
    "#program to handle zerodivision errror\n",
    "num=int(input(\"enter a numerator:\"))\n",
    "deno=int(input(\"enter denominnator:\"))\n",
    "try:\n",
    "    quo=num/deno\n",
    "    print(\"Quotient:\",quo)\n",
    "except ZeroDivisionError:\n",
    "    print(\"Denominator cannot be a zero...\")    "
   ]
  },
  {
   "cell_type": "code",
   "execution_count": 57,
   "id": "4944b086-d0fb-4b47-bc99-8bce2e898357",
   "metadata": {},
   "outputs": [
    {
     "name": "stdin",
     "output_type": "stream",
     "text": [
      "enter the number: hi\n"
     ]
    },
    {
     "name": "stdout",
     "output_type": "stream",
     "text": [
      "Enter the number only\n",
      "program teriminated\n",
      "Bye!\n"
     ]
    }
   ],
   "source": [
    "#multriple exceptions with single try\n",
    "try:\n",
    "    num=int(input(\"enter the number:\"))\n",
    "    print(num**3)\n",
    "except (KeyboardInterrupt):\n",
    "    print(\"you should have entered data with out interuptting the compiler\")\n",
    "except (ValueError):\n",
    "    print(\"Enter the number only\")\n",
    "print(\"program teriminated\")\n",
    "print(\"Bye!\")"
   ]
  },
  {
   "cell_type": "code",
   "execution_count": 63,
   "id": "835ce400-8505-4a26-87f8-0fd7627b5140",
   "metadata": {},
   "outputs": [
    {
     "name": "stdin",
     "output_type": "stream",
     "text": [
      "enter the number: abc\n"
     ]
    },
    {
     "name": "stdout",
     "output_type": "stream",
     "text": [
      "check before entering data...\n",
      "program teriminated\n",
      "Bye!\n"
     ]
    }
   ],
   "source": [
    "#multriple exceptions with single block\n",
    "try:\n",
    "    num=int(input(\"enter the number:\"))\n",
    "    print(num**3)\n",
    "except (KeyboardInterrupt,ValueError,TypeError):\n",
    "    print(\"check before entering data...\")\n",
    "print(\"program teriminated\")\n",
    "print(\"Bye!\")"
   ]
  },
  {
   "cell_type": "code",
   "execution_count": 89,
   "id": "78084195-3ae2-4df1-b133-ffc6ae0422f5",
   "metadata": {},
   "outputs": [
    {
     "name": "stdout",
     "output_type": "stream",
     "text": [
      "Hello Guys!!\n",
      "\n"
     ]
    }
   ],
   "source": [
    "try:\n",
    "    file=open('File1.txt')\n",
    "    str=file.readline()\n",
    "    print(str)\n",
    "except IOError:\n",
    "    print(\"error occured due to input\")\n",
    "except ValueError:\n",
    "    print(\"could not convert to integer\")\n",
    "except:\n",
    "    print(\"Unexpected Error\")"
   ]
  },
  {
   "cell_type": "code",
   "execution_count": 93,
   "id": "a5242365-e811-46d6-84c6-6711ca1399f2",
   "metadata": {},
   "outputs": [
    {
     "name": "stdout",
     "output_type": "stream",
     "text": [
      "Error occured due to input\n"
     ]
    }
   ],
   "source": [
    "try:\n",
    "    file=open('File.txt')\n",
    "    str=file.readine()\n",
    "    print(str)\n",
    "except IOError:\n",
    "    print(\"Error occured due to input\")\n",
    "else:\n",
    "    print(\"Unexcepted error\")"
   ]
  },
  {
   "cell_type": "code",
   "execution_count": 95,
   "id": "e7f33d7b-a5f1-4be9-8525-d815b617a124",
   "metadata": {},
   "outputs": [
    {
     "name": "stdout",
     "output_type": "stream",
     "text": [
      "10000\n",
      "Exception occured...\n"
     ]
    }
   ],
   "source": [
    "try:\n",
    "    num=100\n",
    "    print(num**2)\n",
    "    raise ValueError\n",
    "except:\n",
    "    print(\"Exception occured...\")"
   ]
  },
  {
   "cell_type": "code",
   "execution_count": 99,
   "id": "2838fd91-5e40-4ca6-90fb-027e4c391d30",
   "metadata": {},
   "outputs": [
    {
     "name": "stdout",
     "output_type": "stream",
     "text": [
      "Re-rasing the exception...\n"
     ]
    },
    {
     "ename": "NameError",
     "evalue": "",
     "output_type": "error",
     "traceback": [
      "\u001b[1;31m---------------------------------------------------------------------------\u001b[0m",
      "\u001b[1;31mNameError\u001b[0m                                 Traceback (most recent call last)",
      "Cell \u001b[1;32mIn[99], line 3\u001b[0m\n\u001b[0;32m      1\u001b[0m \u001b[38;5;66;03m#re-raising an exception\u001b[39;00m\n\u001b[0;32m      2\u001b[0m \u001b[38;5;28;01mtry\u001b[39;00m:\n\u001b[1;32m----> 3\u001b[0m     \u001b[38;5;28;01mraise\u001b[39;00m \u001b[38;5;167;01mNameError\u001b[39;00m\n\u001b[0;32m      4\u001b[0m \u001b[38;5;28;01mexcept\u001b[39;00m:\n\u001b[0;32m      5\u001b[0m     \u001b[38;5;28mprint\u001b[39m(\u001b[38;5;124m\"\u001b[39m\u001b[38;5;124mRe-rasing the exception...\u001b[39m\u001b[38;5;124m\"\u001b[39m)\n",
      "\u001b[1;31mNameError\u001b[0m: "
     ]
    }
   ],
   "source": [
    "#re-raising an exception\n",
    "try:\n",
    "    raise NameError\n",
    "except:\n",
    "    print(\"Re-rasing the exception...\")\n",
    "    raise "
   ]
  },
  {
   "cell_type": "code",
   "execution_count": 105,
   "id": "d82ebbc4-4649-4921-b05c-8129c3e2aa9e",
   "metadata": {},
   "outputs": [
    {
     "name": "stdout",
     "output_type": "stream",
     "text": [
      "<class 'Exception'>\n",
      "('Ganesh', 'ECE')\n",
      "2nd argument: ECE\n",
      "1st argument: Ganesh\n"
     ]
    }
   ],
   "source": [
    "# code is to initiate the process of exception\n",
    "try:\n",
    "    raise Exception('Ganesh','ECE')\n",
    "except Exception as errorObj:\n",
    "    print(type(errorObj))\n",
    "    print(errorObj.args)\n",
    "    arg1,arg2=errorObj.args\n",
    "    print(\"2nd argument:\",arg2)\n",
    "    print(\"1st argument:\",arg1)"
   ]
  }
 ],
 "metadata": {
  "kernelspec": {
   "display_name": "Python 3 (ipykernel)",
   "language": "python",
   "name": "python3"
  },
  "language_info": {
   "codemirror_mode": {
    "name": "ipython",
    "version": 3
   },
   "file_extension": ".py",
   "mimetype": "text/x-python",
   "name": "python",
   "nbconvert_exporter": "python",
   "pygments_lexer": "ipython3",
   "version": "3.12.7"
  }
 },
 "nbformat": 4,
 "nbformat_minor": 5
}
