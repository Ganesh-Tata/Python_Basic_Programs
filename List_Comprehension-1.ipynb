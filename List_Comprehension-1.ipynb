{
 "cells": [
  {
   "cell_type": "code",
   "execution_count": null,
   "id": "2ced7137-dbd4-4a9f-8142-b1acd47638e9",
   "metadata": {},
   "outputs": [],
   "source": [
    "'''List comprehensions.....input verson.......\n",
    "[5,7,8,9]\n",
    "for i in range(11):\n",
    "    num=int(input())\n",
    "    v=append.num()\n",
    "    print(i)\n",
    "'''"
   ]
  },
  {
   "cell_type": "code",
   "execution_count": 5,
   "id": "a202c3ed-c19d-477d-ae36-7408ca13af2f",
   "metadata": {},
   "outputs": [
    {
     "name": "stdin",
     "output_type": "stream",
     "text": [
      "enter the number 1: 1\n",
      "enter the number 2: 2\n",
      "enter the number 3: 3\n",
      "enter the number 4: 4\n",
      "enter the number 5: 5\n",
      "enter the number 6: 6\n",
      "enter the number 7: 7\n",
      "enter the number 8: 8\n",
      "enter the number 9: 9\n",
      "enter the number 10: 10\n"
     ]
    },
    {
     "name": "stdout",
     "output_type": "stream",
     "text": [
      "[1, 2, 3, 4, 5, 6, 7, 8, 9, 10]\n"
     ]
    }
   ],
   "source": [
    "#step by step input of LC\n",
    "n=[int(input(f\"enter the number {i+1}:\")) for i in range(10)]\n",
    "print(n)"
   ]
  },
  {
   "cell_type": "code",
   "execution_count": 11,
   "id": "e242b08d-5446-4c6f-8a29-a09fd143364d",
   "metadata": {},
   "outputs": [
    {
     "name": "stdin",
     "output_type": "stream",
     "text": [
      "enter 5 numbers with space 1 2 3 4 5\n"
     ]
    },
    {
     "name": "stdout",
     "output_type": "stream",
     "text": [
      "[1, 2, 3, 4, 5]\n"
     ]
    }
   ],
   "source": [
    "n=[int(x) for x in input(\"enter numbers with space\").split()]\n",
    "print(n)"
   ]
  },
  {
   "cell_type": "code",
   "execution_count": 13,
   "id": "51eb435e-ea23-45f9-b71d-8d33455defe7",
   "metadata": {},
   "outputs": [
    {
     "name": "stdin",
     "output_type": "stream",
     "text": [
      "enter 5 numbers with space 4 5 6 7 8 9 0 1\n"
     ]
    },
    {
     "name": "stdout",
     "output_type": "stream",
     "text": [
      "[4, 5, 6, 7, 8]\n"
     ]
    }
   ],
   "source": [
    "n=[int(x) for x in input(\"enter 5 numbers with space\").split()[:5]]\n",
    "print(n)"
   ]
  },
  {
   "cell_type": "code",
   "execution_count": null,
   "id": "b82ec278-7db5-47b5-be85-c343121befca",
   "metadata": {},
   "outputs": [],
   "source": [
    "'''Nested list comprehesions(LC) loop with in a loop'''"
   ]
  },
  {
   "cell_type": "code",
   "execution_count": 19,
   "id": "ccc2ba0e-2e84-4c97-aa4d-0b82d4536aac",
   "metadata": {},
   "outputs": [
    {
     "name": "stdin",
     "output_type": "stream",
     "text": [
      "Enter the table size: 5\n"
     ]
    },
    {
     "name": "stdout",
     "output_type": "stream",
     "text": [
      "[1, 2, 3, 4, 5]\n",
      "[2, 4, 6, 8, 10]\n",
      "[3, 6, 9, 12, 15]\n",
      "[4, 8, 12, 16, 20]\n",
      "[5, 10, 15, 20, 25]\n"
     ]
    }
   ],
   "source": [
    "n=int(input(\"Enter the table size:\"))\n",
    "table=[[i*j for j in range(1,n+1)] for i in range(1,n+1)]\n",
    "for row in table:\n",
    "    print(row)"
   ]
  },
  {
   "cell_type": "code",
   "execution_count": 25,
   "id": "096316d6-df6a-4e32-82d6-7912a254028d",
   "metadata": {},
   "outputs": [
    {
     "name": "stdin",
     "output_type": "stream",
     "text": [
      "Enter the 9 numbers with spaces 1 2 3 4 5 6 7 8 9\n"
     ]
    },
    {
     "name": "stdout",
     "output_type": "stream",
     "text": [
      "[1, 2, 3]\n",
      "[4, 5, 6]\n",
      "[7, 8, 9]\n"
     ]
    }
   ],
   "source": [
    "'''create a nxn matrics with manual input numbers by input\n",
    "   seperated spaces print all the rows n LC only.......'''\n",
    "n=input(\"Enter the 9 numbers with spaces\").split()\n",
    "if len(n)!=9:\n",
    "    print(\"Enter exactly 9 numbers:\")\n",
    "else:\n",
    "    numbers=[int(x) for  x in n]\n",
    "    matrics=[[numbers[i*3+j] for j in range(3)] for i in range(3)]\n",
    "for r in matrics:\n",
    "    print(r)"
   ]
  },
  {
   "cell_type": "code",
   "execution_count": 27,
   "id": "f1d78024-9a6f-4655-8099-2bfd17fa2d33",
   "metadata": {},
   "outputs": [
    {
     "name": "stdin",
     "output_type": "stream",
     "text": [
      "Enter the 9 numbers with spaces 1 2 3  4 5 6 7 8 9 \n"
     ]
    },
    {
     "name": "stdout",
     "output_type": "stream",
     "text": [
      "[1, 4, 7]\n",
      "[2, 5, 8]\n",
      "[3, 6, 9]\n"
     ]
    }
   ],
   "source": [
    "# Matrics Transpose\n",
    "n=input(\"Enter the 9 numbers with spaces\").split()\n",
    "if len(n)!=9:\n",
    "    print(\"Enter exactly 9 numbers:\")\n",
    "else:\n",
    "    numbers=[int(x) for  x in n]\n",
    "    matrics=[[numbers[i*3+j] for j in range(3)] for i in range(3)]\n",
    "    transpose=[[matrics[i][j] for i in range(3)]for j in range(3)]\n",
    "for r in transpose:\n",
    "    print(r)"
   ]
  },
  {
   "cell_type": "code",
   "execution_count": 61,
   "id": "49e8dbe2-cfe3-418e-9c4d-5242b162f5a4",
   "metadata": {},
   "outputs": [
    {
     "name": "stdout",
     "output_type": "stream",
     "text": [
      "['Ganesh']\n"
     ]
    }
   ],
   "source": [
    "n=[\"IMP: today we have exam\",\n",
    "  \"HI:i am 'Ganesh' how are you\"]\n",
    "n1=[l for l in n if l.startswith(\"HI\") ]\n",
    "n2=[l.split(\"'\")[1]\n",
    "   for l in n1]\n",
    "print(n2)"
   ]
  },
  {
   "cell_type": "code",
   "execution_count": 59,
   "id": "37438051-042e-4310-8072-63bfc479c741",
   "metadata": {},
   "outputs": [
    {
     "name": "stdin",
     "output_type": "stream",
     "text": [
      "enter size: 3\n",
      "Enter nummbers 1 2 3 4 5 6 7 8 9\n"
     ]
    },
    {
     "name": "stdout",
     "output_type": "stream",
     "text": [
      "[1, 2, 3]\n",
      "[4, 5, 6]\n",
      "[7, 8, 9]\n",
      "[1, 2, 3, 4, 5, 6, 7, 8, 9]\n"
     ]
    }
   ],
   "source": [
    "n=int(input(\"enter size:\"))\n",
    "num=[int(x) for x in input(\"Enter nummbers\").split()[:n*n]]\n",
    "mat=[[num[i*n+j]for j in range(n)]for i in range(n)]\n",
    "for k in mat:\n",
    "    print(k)\n",
    "flat=[k for r in mat for k in r]\n",
    "print(flat)"
   ]
  },
  {
   "cell_type": "code",
   "execution_count": 27,
   "id": "67ecb33c-8227-4c25-99fc-71a562115f0b",
   "metadata": {},
   "outputs": [
    {
     "name": "stdin",
     "output_type": "stream",
     "text": [
      "enter size: 3 \n",
      "Enter nummbers 1 2 3 4 5 6 7 8 9\n"
     ]
    },
    {
     "name": "stdout",
     "output_type": "stream",
     "text": [
      "[1, 2, 3]\n",
      "[4, 5, 6]\n",
      "[7, 8, 9]\n",
      "the square matrics is...\n",
      "[1, 4, 9]\n",
      "[16, 25, 36]\n",
      "[49, 64, 81]\n"
     ]
    }
   ],
   "source": [
    "'''code to consider a LC to calculate square of 16 values\n",
    "as nxn matrix and print the list of squares in each row'''\n",
    "n=int(input(\"enter size:\"))\n",
    "num=[int(x) for x in input(\"Enter nummbers\").split()[:n*n]]\n",
    "mat=[[num[i*n+j]for j in range(n)]for i in range(n)]\n",
    "for a in mat:\n",
    "    print(a)\n",
    "print(\"the square matrics is...\")\n",
    "sq=[[mat[i][j]**2 for j in range(n)]for i in range(n)]\n",
    "for k in sq:\n",
    "    print(k)"
   ]
  },
  {
   "cell_type": "code",
   "execution_count": 33,
   "id": "3f985048-f615-4689-b814-3df05bd4d352",
   "metadata": {},
   "outputs": [
    {
     "name": "stdin",
     "output_type": "stream",
     "text": [
      "enter size: 2\n",
      "Enter nummbers 1 2 3 4\n"
     ]
    },
    {
     "name": "stdout",
     "output_type": "stream",
     "text": [
      "[1, 4]\n",
      "[9, 16]\n"
     ]
    }
   ],
   "source": [
    "# program to print the square matrics\n",
    "n=int(input(\"enter size:\"))\n",
    "num=[int(x) for x in input(\"Enter nummbers\").split()[:n*n]]\n",
    "mat=[[num[i*n+j]**2 for j in range(n)]for i in range(n)]\n",
    "for a in mat:\n",
    "    print(a)"
   ]
  },
  {
   "cell_type": "code",
   "execution_count": 53,
   "id": "ec39a35f-b2cf-4d38-bc14-8cb87d2aa96d",
   "metadata": {},
   "outputs": [
    {
     "name": "stdin",
     "output_type": "stream",
     "text": [
      "enter size: 3\n",
      "Enter nummbers 1 2 3 4 5 6 7 8 9\n"
     ]
    },
    {
     "name": "stdout",
     "output_type": "stream",
     "text": [
      "[0, 2, 0]\n",
      "[4, 0, 6]\n",
      "[0, 8, 0]\n"
     ]
    }
   ],
   "source": [
    "'''\n",
    "1 2 3     0 2 0\n",
    "4 5 6  => 4 0 6 \n",
    "7 8 9     0 8 0\n",
    "'''\n",
    "n=int(input(\"enter size:\"))\n",
    "num=[int(x) for x in input(\"Enter nummbers\").split()[:n*n]]\n",
    "mat=[[num[i*n+j] if num[i*n+j]%2==0 else 0 for j in range(n)]for i in range(n)]\n",
    "for k in mat:\n",
    "    print(k)"
   ]
  },
  {
   "cell_type": "code",
   "execution_count": 41,
   "id": "2994a32c-3733-43be-a84f-a54fa92f865e",
   "metadata": {},
   "outputs": [
    {
     "name": "stdin",
     "output_type": "stream",
     "text": [
      "enter size: 3\n",
      "Enter nummbers 1 2 3 4 5 6 7 8 9\n"
     ]
    },
    {
     "name": "stdout",
     "output_type": "stream",
     "text": [
      "[1, 0, 3]\n",
      "[0, 5, 0]\n",
      "[7, 0, 9]\n"
     ]
    }
   ],
   "source": [
    "'''\n",
    "1 2 3     1 0 3\n",
    "4 5 6  => 0 5 0 \n",
    "7 8 9     7 0 9\n",
    "'''\n",
    "n=int(input(\"enter size:\"))\n",
    "num=[int(x) for x in input(\"Enter nummbers\").split()[:n*n]]\n",
    "mat=[[num[i*n+j] if num[i*n+j]%2!=0 else 0 for j in range(n)]for i in range(n)]\n",
    "for k in mat:\n",
    "    print(k)"
   ]
  },
  {
   "cell_type": "code",
   "execution_count": 57,
   "id": "df50ce85-b9dd-4530-90bf-ed69a305e649",
   "metadata": {},
   "outputs": [
    {
     "name": "stdin",
     "output_type": "stream",
     "text": [
      "enter size: 3\n",
      "Enter nummbers 1 2 3 4 5 6 7 8 9\n"
     ]
    },
    {
     "name": "stdout",
     "output_type": "stream",
     "text": [
      "[0, 1, 0]\n",
      "[1, 0, 1]\n",
      "[0, 1, 0]\n"
     ]
    }
   ],
   "source": [
    "'''\n",
    "1 2 3     0 1 0\n",
    "4 5 6  => 1 0 1 \n",
    "7 8 9     0 1 0\n",
    "'''\n",
    "n=int(input(\"enter size:\"))\n",
    "num=[int(x) for x in input(\"Enter nummbers\").split()[:n*n]]\n",
    "matr=[[1 if num[i*n+j]%2==0 else 0 for j in range(n)]for i in range(n)]\n",
    "for k in matr:\n",
    "    print(k)"
   ]
  },
  {
   "cell_type": "code",
   "execution_count": 61,
   "id": "1bb0741b-562e-4f2b-b3c3-854440a99dbe",
   "metadata": {},
   "outputs": [
    {
     "ename": "SyntaxError",
     "evalue": "invalid syntax (1100259586.py, line 1)",
     "output_type": "error",
     "traceback": [
      "\u001b[1;36m  Cell \u001b[1;32mIn[61], line 1\u001b[1;36m\u001b[0m\n\u001b[1;33m    prime=[[i if j%i==0 else pass for i in range(1,20)] for j in range(1,i) ]\u001b[0m\n\u001b[1;37m                             ^\u001b[0m\n\u001b[1;31mSyntaxError\u001b[0m\u001b[1;31m:\u001b[0m invalid syntax\n"
     ]
    }
   ],
   "source": [
    "prime=[[i if j%i==0 else pass for i in range(1,20)] for j in range(1,i) ]\n",
    "print(prime)"
   ]
  },
  {
   "cell_type": "code",
   "execution_count": null,
   "id": "7ffb81d4-593d-4c32-ad20-ca136afadd1c",
   "metadata": {},
   "outputs": [],
   "source": []
  }
 ],
 "metadata": {
  "kernelspec": {
   "display_name": "Python 3 (ipykernel)",
   "language": "python",
   "name": "python3"
  },
  "language_info": {
   "codemirror_mode": {
    "name": "ipython",
    "version": 3
   },
   "file_extension": ".py",
   "mimetype": "text/x-python",
   "name": "python",
   "nbconvert_exporter": "python",
   "pygments_lexer": "ipython3",
   "version": "3.12.7"
  }
 },
 "nbformat": 4,
 "nbformat_minor": 5
}
