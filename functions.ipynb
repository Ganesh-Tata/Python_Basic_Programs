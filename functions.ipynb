{
 "cells": [
  {
   "cell_type": "code",
   "execution_count": 1,
   "id": "fe5ebd80-4b4c-454c-a6a3-6cc187b91dc4",
   "metadata": {},
   "outputs": [
    {
     "name": "stdout",
     "output_type": "stream",
     "text": [
      "hello world\n"
     ]
    }
   ],
   "source": [
    "#USER DEFINE FUNCTION\n",
    "def h1():\n",
    "    print('hello world')\n",
    "h1()"
   ]
  },
  {
   "cell_type": "code",
   "execution_count": 5,
   "id": "3790492b-ed97-42f0-8f5b-dc4c32e097d4",
   "metadata": {},
   "outputs": [
    {
     "name": "stdin",
     "output_type": "stream",
     "text": [
      " enter a value of a : 5\n",
      " enter a value of b : 4\n"
     ]
    },
    {
     "name": "stdout",
     "output_type": "stream",
     "text": [
      "9\n"
     ]
    }
   ],
   "source": [
    "#user define functions with arguments\n",
    "a=int(input(\" enter a value of a :\"))\n",
    "b=int(input(\" enter a value of b :\"))\n",
    "def sum(x,y):\n",
    "    print(x+y)\n",
    "sum(a,b)"
   ]
  },
  {
   "cell_type": "code",
   "execution_count": 7,
   "id": "a96c8c04-b2c4-44b0-9e33-576b9a442d74",
   "metadata": {},
   "outputs": [
    {
     "name": "stdin",
     "output_type": "stream",
     "text": [
      " enter a value of a : 6\n",
      " enter a value of b : 5\n"
     ]
    },
    {
     "data": {
      "text/plain": [
       "11"
      ]
     },
     "execution_count": 7,
     "metadata": {},
     "output_type": "execute_result"
    }
   ],
   "source": [
    "#user defined function with arguments and return values\n",
    "a=int(input(\" enter a value of a :\"))\n",
    "b=int(input(\" enter a value of b :\"))\n",
    "def sum(x,y):\n",
    "    return x+y\n",
    "sum(a,b)"
   ]
  },
  {
   "cell_type": "code",
   "execution_count": 1,
   "id": "742e0c32-7c89-409f-9499-0f555ef10165",
   "metadata": {},
   "outputs": [
    {
     "name": "stdout",
     "output_type": "stream",
     "text": [
      "10\n"
     ]
    }
   ],
   "source": [
    "#function with *args\n",
    "def add_all(*args):\n",
    "    return sum(args)\n",
    "print(add_all(1, 2, 3, 4))  # 10\n"
   ]
  },
  {
   "cell_type": "code",
   "execution_count": 5,
   "id": "1757696a-ab46-4192-9338-57d44d2562a1",
   "metadata": {},
   "outputs": [
    {
     "name": "stdin",
     "output_type": "stream",
     "text": [
      " enter a base number: 2\n",
      "enter a expo number: 4\n"
     ]
    },
    {
     "name": "stdout",
     "output_type": "stream",
     "text": [
      "the final answer 16\n",
      "the final answer 8\n"
     ]
    }
   ],
   "source": [
    "#POWER\n",
    "def power(base,expo=2):\n",
    "    return base**expo\n",
    "a=int(input(\" enter a base number:\"))\n",
    "b=int(input(\"enter a expo number:\"))\n",
    "print(\"the final answer\",power(a,b))\n",
    "print(\"the final answer\",power(a,3))"
   ]
  },
  {
   "cell_type": "code",
   "execution_count": 15,
   "id": "031b4141-b195-4a44-ab9b-5b03dc3080cb",
   "metadata": {},
   "outputs": [
    {
     "name": "stdin",
     "output_type": "stream",
     "text": [
      "enter a num: 4\n",
      "enter a num: 5\n"
     ]
    },
    {
     "data": {
      "text/plain": [
       "'add=9,sub=-1,mul=20'"
      ]
     },
     "execution_count": 15,
     "metadata": {},
     "output_type": "execute_result"
    }
   ],
   "source": [
    "#multiple return values from a single function\n",
    "def num(x,y):\n",
    "    return f'add={x+y},sub={x-y},mul={x*y}'\n",
    "a=int(input(\"enter a num:\"))\n",
    "b=int(input(\"enter a num:\"))\n",
    "num(a,b)"
   ]
  },
  {
   "cell_type": "code",
   "execution_count": 23,
   "id": "aa24908f-74fe-45e1-9762-d96235ba0d57",
   "metadata": {},
   "outputs": [
    {
     "name": "stdin",
     "output_type": "stream",
     "text": [
      "enter a number: 4\n"
     ]
    },
    {
     "name": "stdout",
     "output_type": "stream",
     "text": [
      "16\n"
     ]
    }
   ],
   "source": [
    "#lambda functions\n",
    "#lambda var:operation\n",
    "num=int(input(\"enter a number:\"))\n",
    "square=lambda num:num*num\n",
    "print(square(num))"
   ]
  },
  {
   "cell_type": "code",
   "execution_count": 27,
   "id": "dbaa194d-75f1-4e56-812a-186a98b7abe0",
   "metadata": {},
   "outputs": [
    {
     "name": "stdout",
     "output_type": "stream",
     "text": [
      " outer function \n",
      " inner function \n"
     ]
    }
   ],
   "source": [
    "#nested functions\n",
    "def hi():\n",
    "    def hello():\n",
    "        print(\" inner function \")\n",
    "    print(\" outer function \")\n",
    "    hello()\n",
    "hi()"
   ]
  },
  {
   "cell_type": "code",
   "execution_count": 35,
   "id": "d757020b-f37c-45f8-9c4e-64e2183c61ed",
   "metadata": {},
   "outputs": [
    {
     "name": "stdin",
     "output_type": "stream",
     "text": [
      " 4\n",
      " 3\n"
     ]
    },
    {
     "name": "stdout",
     "output_type": "stream",
     "text": [
      "addition: 7\n",
      "subtraction: 1\n",
      "multiplication: 12\n",
      "division: 1.3333333333333333\n"
     ]
    }
   ],
   "source": [
    "def operation(a,b):\n",
    "    def add():\n",
    "        return a+b\n",
    "    def sub():\n",
    "        return a-b\n",
    "    def mul():\n",
    "        return a*b\n",
    "    def div():\n",
    "        return a/b\n",
    "    print(\"addition:\",add())\n",
    "    print(\"subtraction:\",sub())\n",
    "    print(\"multiplication:\",mul())\n",
    "    print(\"division:\",div())\n",
    "    \n",
    "a=int(input())\n",
    "b=int(input())\n",
    "operation(a,b)"
   ]
  },
  {
   "cell_type": "code",
   "execution_count": 78,
   "id": "937bd271-f264-4d57-b067-efb0c1d003ab",
   "metadata": {},
   "outputs": [
    {
     "name": "stdin",
     "output_type": "stream",
     "text": [
      " 2\n",
      " 3\n"
     ]
    },
    {
     "name": "stdout",
     "output_type": "stream",
     "text": [
      "factorial: 2\n",
      "power: 8\n"
     ]
    }
   ],
   "source": [
    "#facorial and power in nested function\n",
    "def op(n,m):    \n",
    "    def factorial(n):\n",
    "        if n==1 or n==0:\n",
    "            return 1\n",
    "        return n*factorial(n-1)\n",
    "    def power(n,m):\n",
    "        print(\"power:\",n**m)\n",
    "    print(\"factorial:\",factorial(n))\n",
    "    power(n,m)\n",
    "a=int(input())\n",
    "b=int(input())\n",
    "op(a,b)"
   ]
  },
  {
   "cell_type": "code",
   "execution_count": 82,
   "id": "b94100c6-afc0-43fa-9283-f0e1d14d7bf9",
   "metadata": {},
   "outputs": [
    {
     "name": "stdin",
     "output_type": "stream",
     "text": [
      "enter a number: 4\n"
     ]
    },
    {
     "name": "stdout",
     "output_type": "stream",
     "text": [
      "factorial: 288\n"
     ]
    }
   ],
   "source": [
    "#super factorial\n",
    "def fact(n):\n",
    "    if n==0 or n==1:\n",
    "        return 1\n",
    "    return n*fact(n-1)\n",
    "def sfact(n):\n",
    "    if n==1:\n",
    "        return 1\n",
    "    return fact(n)*sfact(n-1)\n",
    "num=int(input(\"enter a number:\"))\n",
    "print(\"factorial:\",sfact(num))"
   ]
  },
  {
   "cell_type": "code",
   "execution_count": null,
   "id": "f56a71ce-e4b2-4d7b-b20d-675cda09cb93",
   "metadata": {},
   "outputs": [],
   "source": []
  }
 ],
 "metadata": {
  "kernelspec": {
   "display_name": "Python 3 (ipykernel)",
   "language": "python",
   "name": "python3"
  },
  "language_info": {
   "codemirror_mode": {
    "name": "ipython",
    "version": 3
   },
   "file_extension": ".py",
   "mimetype": "text/x-python",
   "name": "python",
   "nbconvert_exporter": "python",
   "pygments_lexer": "ipython3",
   "version": "3.12.7"
  }
 },
 "nbformat": 4,
 "nbformat_minor": 5
}
