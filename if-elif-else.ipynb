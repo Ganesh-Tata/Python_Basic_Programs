{
 "cells": [
  {
   "cell_type": "code",
   "execution_count": null,
   "id": "c22f63d5-030b-40bc-a16b-b9cfd961f95a",
   "metadata": {},
   "outputs": [],
   "source": [
    "# CONDITIONAL STATEMENTS EXAMPLES"
   ]
  },
  {
   "cell_type": "code",
   "execution_count": 8,
   "id": "f496ff98-6636-4284-8a07-b5ebacc0f7b8",
   "metadata": {},
   "outputs": [
    {
     "name": "stdin",
     "output_type": "stream",
     "text": [
      "enter the age of the person 3\n"
     ]
    },
    {
     "name": "stdout",
     "output_type": "stream",
     "text": [
      "not eligible to vote\n"
     ]
    }
   ],
   "source": [
    "age=int(input(\"enter the age of the person\"))\n",
    "if age>=18:\n",
    "    print(\"eligible to vote\")\n",
    "else:\n",
    "    print(\"not eligible to vote\")"
   ]
  },
  {
   "cell_type": "code",
   "execution_count": null,
   "id": "6efa8017-1b2b-4b4a-99ea-5cb0e52ee3e2",
   "metadata": {},
   "outputs": [],
   "source": [
    "'''\n",
    "code for determining the character entered by the user\n",
    "input =8\n",
    "output=the user entered a digit\n",
    "input=t\n",
    "output=the user entered a character\n",
    "input= \n",
    "output=the user entered a space\n",
    "input\n",
    "'''"
   ]
  },
  {
   "cell_type": "code",
   "execution_count": 14,
   "id": "b78d7699-f03e-4bcb-8cf5-8d6237092577",
   "metadata": {},
   "outputs": [
    {
     "name": "stdin",
     "output_type": "stream",
     "text": [
      "press any key 4\n"
     ]
    },
    {
     "name": "stdout",
     "output_type": "stream",
     "text": [
      "4 is a digit\n"
     ]
    }
   ],
   "source": [
    "char=input(\"press any key\")\n",
    "if char.isalpha():\n",
    "    print(char,\"is a character\")\n",
    "elif char.isdigit():\n",
    "    print(char,\"is a digit\")\n",
    "elif char.isspace():\n",
    "    print(char,\"is a space\")"
   ]
  },
  {
   "cell_type": "code",
   "execution_count": 20,
   "id": "6685afbb-cce3-4e0d-bc50-6954ba49c43e",
   "metadata": {},
   "outputs": [
    {
     "name": "stdin",
     "output_type": "stream",
     "text": [
      "enter a number -9\n"
     ]
    },
    {
     "name": "stdout",
     "output_type": "stream",
     "text": [
      "it is a negative number\n"
     ]
    }
   ],
   "source": [
    "# code to check a number is a positive,negative or zero\n",
    "\n",
    "num=int(input(\"enter a number\"))\n",
    "if num<0:\n",
    "    print(\"it is a negative number\")\n",
    "elif num>0:\n",
    "    print(\"it is a positive number\")\n",
    "else:\n",
    "    print(\"it is zero\")"
   ]
  },
  {
   "cell_type": "code",
   "execution_count": 24,
   "id": "9365a519-1603-4960-b491-4f75b31db65f",
   "metadata": {},
   "outputs": [
    {
     "name": "stdin",
     "output_type": "stream",
     "text": [
      "enter a number 5\n"
     ]
    },
    {
     "name": "stdout",
     "output_type": "stream",
     "text": [
      "5 it is a odd number\n"
     ]
    }
   ],
   "source": [
    "# to check whether the number is even or odd\n",
    "\n",
    "num=int(input(\"enter a number\"))\n",
    "if num%2==0:\n",
    "    print(num,\" is a even number\")\n",
    "else:\n",
    "    print(num,\" is a odd number\")"
   ]
  },
  {
   "cell_type": "code",
   "execution_count": 38,
   "id": "87fa8265-4e4e-4d4a-9f3c-defb5d2586d2",
   "metadata": {},
   "outputs": [
    {
     "name": "stdin",
     "output_type": "stream",
     "text": [
      "enter number 1 8\n",
      "enter numnber 2 0\n"
     ]
    },
    {
     "name": "stdout",
     "output_type": "stream",
     "text": [
      "8 is greater than 0\n"
     ]
    }
   ],
   "source": [
    "# to check larger number among two numbers\n",
    "num1=int(input(\"enter number 1\"))\n",
    "num2=int(input(\"enter numnber 2\"))\n",
    "if num1>num2:\n",
    "    print(f'{num1} is greater than {num2}')\n",
    "else:\n",
    "    print(f'{num2} is greater than {num1}')"
   ]
  },
  {
   "cell_type": "code",
   "execution_count": 34,
   "id": "bbdafceb-f858-42d3-b206-75ac2e0a6c2d",
   "metadata": {},
   "outputs": [
    {
     "name": "stdin",
     "output_type": "stream",
     "text": [
      "enter a char fromn a to z: y\n"
     ]
    },
    {
     "name": "stdout",
     "output_type": "stream",
     "text": [
      "the entered character was in lower case ... upper:Y\n"
     ]
    }
   ],
   "source": [
    "'''\n",
    "program to enter any char if the entered char is in lowercase then convert the char into upper and viceversa\n",
    "'''\n",
    "\n",
    "ch=input(\"enter a char fromn a to z:\")\n",
    "if ch>='A' and ch<='Z':\n",
    "    ch=ch.lower()\n",
    "    print(\"the entered character was in upper case ... lower:\"+ch)\n",
    "else:\n",
    "    ch=ch.upper()\n",
    "    print(\"the entered character was in lower case ... upper:\"+ch)"
   ]
  },
  {
   "cell_type": "code",
   "execution_count": 48,
   "id": "c57afc91-4f0d-45ef-86d3-2058910c6461",
   "metadata": {},
   "outputs": [
    {
     "name": "stdin",
     "output_type": "stream",
     "text": [
      "enter the number: 88\n"
     ]
    },
    {
     "name": "stdout",
     "output_type": "stream",
     "text": [
      "88 out of range\n"
     ]
    }
   ],
   "source": [
    "# code for checking the interval of a given number(nested if-elif-else)\n",
    "\n",
    "num=int(input(\"enter the number:\"))\n",
    "if num>=0 and num<=10:\n",
    "    print(num,\"is in 0-10 range\")\n",
    "elif num>=11 and num<=20:\n",
    "    print(num,\"is in 11-20 range\")\n",
    "elif num>=21 and num<=30:\n",
    "    print(num,\"is in 21-30 range\")\n",
    "else:\n",
    "    print(num,\"out of range\")"
   ]
  },
  {
   "cell_type": "code",
   "execution_count": null,
   "id": "4ef45f93-52b3-4dba-9379-c4a7a405ef62",
   "metadata": {},
   "outputs": [],
   "source": []
  }
 ],
 "metadata": {
  "kernelspec": {
   "display_name": "Python 3 (ipykernel)",
   "language": "python",
   "name": "python3"
  },
  "language_info": {
   "codemirror_mode": {
    "name": "ipython",
    "version": 3
   },
   "file_extension": ".py",
   "mimetype": "text/x-python",
   "name": "python",
   "nbconvert_exporter": "python",
   "pygments_lexer": "ipython3",
   "version": "3.12.7"
  }
 },
 "nbformat": 4,
 "nbformat_minor": 5
}
