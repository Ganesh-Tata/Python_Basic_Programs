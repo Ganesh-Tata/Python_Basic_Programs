{
 "cells": [
  {
   "cell_type": "code",
   "execution_count": null,
   "id": "684db539-ba88-45ce-9d79-abbb5547fdec",
   "metadata": {},
   "outputs": [],
   "source": [
    "'''\n",
    "RECURSION\n",
    "Tail recursion\n",
    "Head recursion/Direct recursion\n",
    "Indirect recursion\n",
    "\n",
    "'''"
   ]
  },
  {
   "cell_type": "code",
   "execution_count": 13,
   "id": "958ca18e-3e91-410a-abaf-0d358b9b131b",
   "metadata": {},
   "outputs": [
    {
     "name": "stdin",
     "output_type": "stream",
     "text": [
      "enter the value: 5\n"
     ]
    },
    {
     "name": "stdout",
     "output_type": "stream",
     "text": [
      "1 2 3 4 5 "
     ]
    }
   ],
   "source": [
    "# linear/head recursion to print n numbers\n",
    "def hrec(n):\n",
    "    if n==0:\n",
    "        return \n",
    "    hrec(n-1)\n",
    "    print(n,end=\" \")\n",
    "num=int(input(\"enter the value:\"))\n",
    "hrec(num)"
   ]
  },
  {
   "cell_type": "code",
   "execution_count": 15,
   "id": "346c01d0-8a7b-462b-a7c2-280ed8dc1288",
   "metadata": {},
   "outputs": [
    {
     "name": "stdin",
     "output_type": "stream",
     "text": [
      "enter the value: 5\n"
     ]
    },
    {
     "name": "stdout",
     "output_type": "stream",
     "text": [
      "5 4 3 2 1 "
     ]
    }
   ],
   "source": [
    "# linear/tail recursion to print n numbers in reverse order\n",
    "def hrec(n):\n",
    "    if n==0:\n",
    "        return \n",
    "    print(n,end=\" \")\n",
    "    return hrec(n-1)\n",
    "num=int(input(\"enter the value:\"))\n",
    "hrec(num)"
   ]
  },
  {
   "cell_type": "code",
   "execution_count": 21,
   "id": "2dae2c92-24a0-44ba-8f18-951d5fde956e",
   "metadata": {},
   "outputs": [
    {
     "name": "stdin",
     "output_type": "stream",
     "text": [
      "enter a number: 5\n"
     ]
    },
    {
     "name": "stdout",
     "output_type": "stream",
     "text": [
      "Factorial of 5 is:120\n"
     ]
    }
   ],
   "source": [
    "#FACTORIAL using Linear recursion\n",
    "def factorial(n):\n",
    "    if n==0 or n==1:\n",
    "        return 1\n",
    "    return n*factorial(n-1)\n",
    "num=int(input(\"enter a number:\"))\n",
    "print(f\"Factorial of {num} is:{factorial(num)}\")"
   ]
  },
  {
   "cell_type": "code",
   "execution_count": 45,
   "id": "85264a30-068f-4677-b8e3-c0ce1a305c3f",
   "metadata": {},
   "outputs": [
    {
     "name": "stdin",
     "output_type": "stream",
     "text": [
      "enter a number: 4\n"
     ]
    },
    {
     "name": "stdout",
     "output_type": "stream",
     "text": [
      "the sum of 4 numbers is :10\n"
     ]
    }
   ],
   "source": [
    "#sum of n digits\n",
    "def sum_n(n):\n",
    "    if n==0:\n",
    "        return 0\n",
    "    return int(n) + sum_n(n-1)\n",
    "num=int(input(\"enter a number:\"))\n",
    "print(f\"the sum of {num} numbers is :{sum_n(num)}\")"
   ]
  },
  {
   "cell_type": "code",
   "execution_count": 49,
   "id": "6bdbca38-4a92-492e-80e4-9f03041fe08b",
   "metadata": {},
   "outputs": [
    {
     "name": "stdin",
     "output_type": "stream",
     "text": [
      "enter a number: 12345\n"
     ]
    },
    {
     "name": "stdout",
     "output_type": "stream",
     "text": [
      "the sum of digits is:15\n"
     ]
    }
   ],
   "source": [
    "#sum of digits in a given number\n",
    "def sumD(n):\n",
    "    if n==0:\n",
    "        return 0\n",
    "    return (n%10)+sumD(n//10)\n",
    "n=int(input(\"enter a number:\"))\n",
    "print(f\"the sum of digits is:{sumD(n)}\")"
   ]
  },
  {
   "cell_type": "code",
   "execution_count": 59,
   "id": "78792b9b-333a-4e1c-adc2-50b2eb08176e",
   "metadata": {},
   "outputs": [
    {
     "name": "stdin",
     "output_type": "stream",
     "text": [
      "enter the value of n: 10\n"
     ]
    },
    {
     "name": "stdout",
     "output_type": "stream",
     "text": [
      "one: 10\n",
      "two: 9\n",
      "one: 4\n",
      "two: 3\n",
      "one: 1\n"
     ]
    }
   ],
   "source": [
    "#indirect recursion\n",
    "def one(n):\n",
    "    if n>0:\n",
    "        print(\"one:\",n)\n",
    "        two(n-1)\n",
    "def two(n):\n",
    "    if n>0:\n",
    "        print(\"two:\",n)\n",
    "        one(n//2)\n",
    "num=int(input(\"enter the value of n:\"))\n",
    "one(num)"
   ]
  },
  {
   "cell_type": "code",
   "execution_count": 71,
   "id": "bbd9f07c-26c8-46e6-b356-5af8ebd0beac",
   "metadata": {},
   "outputs": [
    {
     "name": "stdin",
     "output_type": "stream",
     "text": [
      "enter a number: 7\n"
     ]
    },
    {
     "name": "stdout",
     "output_type": "stream",
     "text": [
      "7 is even ? False\n"
     ]
    }
   ],
   "source": [
    "'''\n",
    "write a code to check the given number is even or odd using indirect recursion method with boolean output \n",
    "input:5\n",
    "output: 5 is even? False'''\n",
    "def is_even(n):\n",
    "    if n==0:\n",
    "        return True\n",
    "    return is_odd(n-1)\n",
    "def is_odd(n):\n",
    "    if n==0:\n",
    "        return False\n",
    "    return is_even(n-1)\n",
    "num=int(input(\"enter a number:\"))\n",
    "print(num,\"is even ?\",is_even(num))"
   ]
  },
  {
   "cell_type": "code",
   "execution_count": 83,
   "id": "baa12cd3-8c75-41f5-bc28-39b2939af94f",
   "metadata": {},
   "outputs": [
    {
     "name": "stdin",
     "output_type": "stream",
     "text": [
      "enter a number: 5\n"
     ]
    },
    {
     "name": "stdout",
     "output_type": "stream",
     "text": [
      "5\n",
      "4\n",
      "3\n",
      "3\n"
     ]
    }
   ],
   "source": [
    "'''\n",
    "Tree recursion\n",
    "'''\n",
    "def tree(n):\n",
    "    if n<3:\n",
    "        return\n",
    "    print(n)\n",
    "    tree(n-1)\n",
    "    tree(n-2)\n",
    "a=int(input(\"enter a number:\"))\n",
    "tree(a)"
   ]
  },
  {
   "cell_type": "code",
   "execution_count": 95,
   "id": "729d0482-1f01-4069-9c96-fc33601febc0",
   "metadata": {
    "scrolled": true
   },
   "outputs": [
    {
     "ename": "RecursionError",
     "evalue": "maximum recursion depth exceeded",
     "output_type": "error",
     "traceback": [
      "\u001b[1;31m---------------------------------------------------------------------------\u001b[0m",
      "\u001b[1;31mRecursionError\u001b[0m                            Traceback (most recent call last)",
      "Cell \u001b[1;32mIn[95], line 5\u001b[0m\n\u001b[0;32m      3\u001b[0m         \u001b[38;5;28;01mreturn\u001b[39;00m n\u001b[38;5;241m-\u001b[39m\u001b[38;5;241m1\u001b[39m\n\u001b[0;32m      4\u001b[0m     \u001b[38;5;28;01mreturn\u001b[39;00m nest(nest(n\u001b[38;5;241m+\u001b[39m\u001b[38;5;241m1\u001b[39m))\n\u001b[1;32m----> 5\u001b[0m \u001b[38;5;28mprint\u001b[39m(nest(\u001b[38;5;241m5\u001b[39m))\n",
      "Cell \u001b[1;32mIn[95], line 4\u001b[0m, in \u001b[0;36mnest\u001b[1;34m(n)\u001b[0m\n\u001b[0;32m      2\u001b[0m \u001b[38;5;28;01mif\u001b[39;00m n\u001b[38;5;241m>\u001b[39m\u001b[38;5;241m10\u001b[39m:\n\u001b[0;32m      3\u001b[0m     \u001b[38;5;28;01mreturn\u001b[39;00m n\u001b[38;5;241m-\u001b[39m\u001b[38;5;241m1\u001b[39m\n\u001b[1;32m----> 4\u001b[0m \u001b[38;5;28;01mreturn\u001b[39;00m nest(nest(n\u001b[38;5;241m+\u001b[39m\u001b[38;5;241m1\u001b[39m))\n",
      "Cell \u001b[1;32mIn[95], line 4\u001b[0m, in \u001b[0;36mnest\u001b[1;34m(n)\u001b[0m\n\u001b[0;32m      2\u001b[0m \u001b[38;5;28;01mif\u001b[39;00m n\u001b[38;5;241m>\u001b[39m\u001b[38;5;241m10\u001b[39m:\n\u001b[0;32m      3\u001b[0m     \u001b[38;5;28;01mreturn\u001b[39;00m n\u001b[38;5;241m-\u001b[39m\u001b[38;5;241m1\u001b[39m\n\u001b[1;32m----> 4\u001b[0m \u001b[38;5;28;01mreturn\u001b[39;00m nest(nest(n\u001b[38;5;241m+\u001b[39m\u001b[38;5;241m1\u001b[39m))\n",
      "    \u001b[1;31m[... skipping similar frames: nest at line 4 (2974 times)]\u001b[0m\n",
      "Cell \u001b[1;32mIn[95], line 4\u001b[0m, in \u001b[0;36mnest\u001b[1;34m(n)\u001b[0m\n\u001b[0;32m      2\u001b[0m \u001b[38;5;28;01mif\u001b[39;00m n\u001b[38;5;241m>\u001b[39m\u001b[38;5;241m10\u001b[39m:\n\u001b[0;32m      3\u001b[0m     \u001b[38;5;28;01mreturn\u001b[39;00m n\u001b[38;5;241m-\u001b[39m\u001b[38;5;241m1\u001b[39m\n\u001b[1;32m----> 4\u001b[0m \u001b[38;5;28;01mreturn\u001b[39;00m nest(nest(n\u001b[38;5;241m+\u001b[39m\u001b[38;5;241m1\u001b[39m))\n",
      "\u001b[1;31mRecursionError\u001b[0m: maximum recursion depth exceeded"
     ]
    }
   ],
   "source": [
    "def nest(n):\n",
    "    if n>10:\n",
    "        return n-1\n",
    "    return nest(nest(n+1))\n",
    "print(nest(5))"
   ]
  },
  {
   "cell_type": "code",
   "execution_count": null,
   "id": "795129d5-8564-423e-86eb-a476bd74e237",
   "metadata": {},
   "outputs": [],
   "source": []
  }
 ],
 "metadata": {
  "kernelspec": {
   "display_name": "Python 3 (ipykernel)",
   "language": "python",
   "name": "python3"
  },
  "language_info": {
   "codemirror_mode": {
    "name": "ipython",
    "version": 3
   },
   "file_extension": ".py",
   "mimetype": "text/x-python",
   "name": "python",
   "nbconvert_exporter": "python",
   "pygments_lexer": "ipython3",
   "version": "3.12.7"
  }
 },
 "nbformat": 4,
 "nbformat_minor": 5
}
