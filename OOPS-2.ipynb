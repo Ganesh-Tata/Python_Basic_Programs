{
 "cells": [
  {
   "cell_type": "code",
   "execution_count": null,
   "id": "f136a44f-07d8-4f6d-a28c-913cf3ba7be5",
   "metadata": {},
   "outputs": [],
   "source": [
    "''' mutable types attributes code to illustrate multiple attributes by calling\n",
    "a class for its specifications for example n = 21,32,43,54,65\n",
    "even list:[32,54]\n",
    "odd list:[21,43,65] '''"
   ]
  },
  {
   "cell_type": "code",
   "execution_count": 5,
   "id": "937d12d7-8c17-4fa7-8a81-8d2ec986a342",
   "metadata": {},
   "outputs": [
    {
     "name": "stdout",
     "output_type": "stream",
     "text": [
      "Even Mutable List: [32, 54]\n",
      "Odd Mutable List: [21, 43, 65]\n"
     ]
    }
   ],
   "source": [
    "class number:\n",
    "    evens=[]\n",
    "    odds=[]\n",
    "    def __init__(self,num):\n",
    "        self.num=num\n",
    "        if num%2==0:\n",
    "            number.evens.append(num)\n",
    "        else:\n",
    "            number.odds.append(num)\n",
    "n1= number(21)\n",
    "n2= number(32)\n",
    "n3= number(43)\n",
    "n4= number(54)\n",
    "n5= number(65)\n",
    "print(\"Even Mutable List:\",number.evens)\n",
    "print(\"Odd Mutable List:\",number.odds)"
   ]
  },
  {
   "cell_type": "code",
   "execution_count": 19,
   "id": "bac2c32f-8ec3-40d7-9e7a-3a94c7d6e175",
   "metadata": {},
   "outputs": [
    {
     "name": "stdin",
     "output_type": "stream",
     "text": [
      "enter a number: 3\n"
     ]
    },
    {
     "name": "stdout",
     "output_type": "stream",
     "text": [
      "Given value: 3\n",
      "Modified value: 27\n"
     ]
    }
   ],
   "source": [
    "def op(x):\n",
    "    return x**3\n",
    "class abc():\n",
    "    def __init__(self,val):\n",
    "        self.val=val\n",
    "    def display(self):\n",
    "        print(\"Given value:\", self.val)\n",
    "    def modify(self):\n",
    "        self.val=op(self.val)\n",
    "        print(\"Modified value:\",self.val)\n",
    "n=int(input(\"enter a number:\"))\n",
    "o=abc(n)\n",
    "o.display()\n",
    "o.modify()"
   ]
  },
  {
   "cell_type": "code",
   "execution_count": 23,
   "id": "f4459050-7c29-41ff-a64d-7ff58c9a5e47",
   "metadata": {},
   "outputs": [
    {
     "name": "stdin",
     "output_type": "stream",
     "text": [
      "Enter n1: 3\n",
      "Enter n2: 4\n"
     ]
    },
    {
     "name": "stdout",
     "output_type": "stream",
     "text": [
      "Object.__dict__ -  {'var1': 3, 'var2': 4}\n",
      "object.__doc__- None\n",
      "class.__name__- abc\n",
      "Object.__module__- __main__\n",
      "Class.__base__- <class 'object'>\n"
     ]
    }
   ],
   "source": [
    "class abc():\n",
    "    def __init__(self,var1,var2):\n",
    "        self.var1=var1\n",
    "        self.var2=var2\n",
    "    def display(self):\n",
    "        print(\"var1:\",self.var1)\n",
    "        print(\"var2:\",self.var2)\n",
    "        \n",
    "n1=int(input(\"Enter n1:\"))\n",
    "n2=int(input(\"Enter n2:\"))\n",
    "o=abc(n1,n2)\n",
    "print(\"Object.__dict__ - \",o.__dict__)\n",
    "print(\"object.__doc__-\",o.__doc__)\n",
    "print(\"class.__name__-\",abc.__name__)\n",
    "print(\"Object.__module__-\",o.__module__)\n",
    "print(\"Class.__base__-\",abc.__base__)"
   ]
  },
  {
   "cell_type": "code",
   "execution_count": 25,
   "id": "ae570090-5c7b-4225-84df-5c065fc7a488",
   "metadata": {},
   "outputs": [
    {
     "name": "stdout",
     "output_type": "stream",
     "text": [
      "<class 'type'>\n",
      "1704\n",
      "48\n"
     ]
    }
   ],
   "source": [
    "''' code to view the memory info in a class ,which\n",
    "gives the type of the class , size of the object,\n",
    "and size if instance \n",
    "const:use package- sys for size of given val\n",
    "given value of num = 10\n",
    "\n",
    "class A: '''\n",
    "\n",
    "import sys\n",
    "class A:\n",
    "    num=10\n",
    "a=A()\n",
    "print(type(A))\n",
    "print(sys.getsizeof(A))\n",
    "print(sys.getsizeof(a))"
   ]
  },
  {
   "cell_type": "code",
   "execution_count": 56,
   "id": "358c854d-f1a6-4ad6-ad9e-2f84663a75ab",
   "metadata": {},
   "outputs": [
    {
     "name": "stdin",
     "output_type": "stream",
     "text": [
      "Enter the pin 1234\n",
      "Enter the withdrawal amount 2000\n"
     ]
    },
    {
     "name": "stdout",
     "output_type": "stream",
     "text": [
      "2000 withdrawn successfully.\n",
      "Remaining balance:3999\n"
     ]
    }
   ],
   "source": [
    "'''create a class pin and check the pin user1234\n",
    "define a function to withdraw 2000/- balance amount \n",
    "from account 5999, if the amount is over the balance exit\n",
    "and check the for accessing the account...'''\n",
    "class ATM:\n",
    "    def __init__(self,pin,balance=5999):\n",
    "        self.correct_pin='1234'\n",
    "        self.user_pin=pin\n",
    "        self.balance=balance\n",
    "    def check_pin(self):\n",
    "        if self.user_pin == self.correct_pin:\n",
    "            print(\"PIN verified successfully.\")\n",
    "            return True\n",
    "        else:\n",
    "            print(\"Incorrect PIN, Access denied.\")\n",
    "            return False\n",
    "    def withdraw(self,amount):\n",
    "        if not self.check_pin:\n",
    "            return\n",
    "        if amount > self.balance:\n",
    "            print(\"Insufficient balance. Cannot proceed withdrawal.\")\n",
    "        else:\n",
    "            self.balance-=amount\n",
    "            print(f\"{amount} withdrawn successfully.\")\n",
    "            print(f\"Remaining balance:{self.balance}\")\n",
    "user_pin_input=input('Enter the pin')\n",
    "n=int(input(\"Enter the withdrawal amount\"))\n",
    "atm=ATM(pin=user_pin_input)\n",
    "atm.withdraw(n)\n",
    "            "
   ]
  }
 ],
 "metadata": {
  "kernelspec": {
   "display_name": "Python 3 (ipykernel)",
   "language": "python",
   "name": "python3"
  },
  "language_info": {
   "codemirror_mode": {
    "name": "ipython",
    "version": 3
   },
   "file_extension": ".py",
   "mimetype": "text/x-python",
   "name": "python",
   "nbconvert_exporter": "python",
   "pygments_lexer": "ipython3",
   "version": "3.12.7"
  }
 },
 "nbformat": 4,
 "nbformat_minor": 5
}
