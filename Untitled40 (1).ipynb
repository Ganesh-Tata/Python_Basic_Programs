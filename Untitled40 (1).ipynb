{
 "cells": [
  {
   "cell_type": "code",
   "execution_count": null,
   "id": "869ea0d5-f11a-4823-a9fc-212ffebd394c",
   "metadata": {},
   "outputs": [],
   "source": [
    "#looping statements"
   ]
  },
  {
   "cell_type": "code",
   "execution_count": 7,
   "id": "b54fe523-9cb1-4d48-ab6b-e5790345aa59",
   "metadata": {},
   "outputs": [
    {
     "name": "stdin",
     "output_type": "stream",
     "text": [
      "enter a value: 5\n"
     ]
    },
    {
     "name": "stdout",
     "output_type": "stream",
     "text": [
      "0-1-2-3-4-5-"
     ]
    }
   ],
   "source": [
    "# while loop\n",
    "\n",
    "n=int(input('enter a value:'))\n",
    "loop=0\n",
    "while loop<=n:\n",
    "    print(loop,end=\"-\")\n",
    "    loop+=1\n",
    "    "
   ]
  },
  {
   "cell_type": "code",
   "execution_count": 13,
   "id": "7a001dd6-1b14-4f39-b19d-7722249b0c2a",
   "metadata": {},
   "outputs": [
    {
     "name": "stdin",
     "output_type": "stream",
     "text": [
      "enter a number 5\n"
     ]
    },
    {
     "name": "stdout",
     "output_type": "stream",
     "text": [
      "5 4 3 2 1 0 "
     ]
    }
   ],
   "source": [
    "# reverse loop \n",
    "\n",
    "n=int(input(\"enter a number:\"))\n",
    "while n>=0:\n",
    "    print(n,end=' ')\n",
    "    n-=1"
   ]
  },
  {
   "cell_type": "code",
   "execution_count": 15,
   "id": "fa79cbd5-290b-4326-8078-a5dad2ee20b5",
   "metadata": {},
   "outputs": [
    {
     "name": "stdin",
     "output_type": "stream",
     "text": [
      "enter a number: 5\n"
     ]
    },
    {
     "name": "stdout",
     "output_type": "stream",
     "text": [
      "0 2 4 "
     ]
    }
   ],
   "source": [
    "# print all the even numbers till n\n",
    "\n",
    "n=int(input(\"enter a number:\"))\n",
    "i=0\n",
    "while i<n:\n",
    "    if i%2==0:\n",
    "        print(i,end=\" \")\n",
    "    i+=1"
   ]
  },
  {
   "cell_type": "code",
   "execution_count": 23,
   "id": "cb0f0769-5796-42d0-b7dd-2a67c814fa31",
   "metadata": {},
   "outputs": [
    {
     "name": "stdin",
     "output_type": "stream",
     "text": [
      "enter a number 5\n"
     ]
    },
    {
     "name": "stdout",
     "output_type": "stream",
     "text": [
      "1 3 5 "
     ]
    }
   ],
   "source": [
    "#print all the odd numbers till n\n",
    "\n",
    "n=int(input(\"enter a number:\"))\n",
    "i=0\n",
    "while i<=n:\n",
    "    if i%2==1:\n",
    "        print(i,end=\" \")\n",
    "    i+=1"
   ]
  },
  {
   "cell_type": "code",
   "execution_count": 29,
   "id": "eb6cc2f0-84c3-4cd4-8d25-4293df5dd751",
   "metadata": {},
   "outputs": [
    {
     "name": "stdout",
     "output_type": "stream",
     "text": [
      "enter -1 to exit!!! \n"
     ]
    },
    {
     "name": "stdin",
     "output_type": "stream",
     "text": [
      "enter any number: 5\n",
      "enter any number: 7\n",
      "enter any number: -8\n",
      "enter any number: 0\n",
      "enter any number: 0\n",
      "enter any number: -4\n",
      "enter any number: -1\n"
     ]
    },
    {
     "name": "stdout",
     "output_type": "stream",
     "text": [
      "count of positivee entered 2\n",
      "count of negative entered 2\n",
      "count of zeros entered 2\n"
     ]
    }
   ],
   "source": [
    "'''\n",
    "write a program to read numbers untill -1 is encountered also count the negatives,positives and zeros\n",
    "entered by the user\n",
    "'''\n",
    "\n",
    "n=p=z=0\n",
    "print(\"enter -1 to exit!!! \")\n",
    "while(1):\n",
    "    num=int(input(\"enter any number:\"))\n",
    "    if num == -1:\n",
    "        break\n",
    "    if num==0:\n",
    "        z+=1\n",
    "    elif num>0:\n",
    "        p+=1\n",
    "    elif num<=0:\n",
    "        n+=1\n",
    "print(\"count of positivee entered\",p )\n",
    "print(\"count of negative entered\",n)\n",
    "print(\"count of zeros entered\",z)"
   ]
  },
  {
   "cell_type": "code",
   "execution_count": 31,
   "id": "fb965805-53f5-43d9-aa75-63d2fd63eec5",
   "metadata": {},
   "outputs": [
    {
     "name": "stdout",
     "output_type": "stream",
     "text": [
      "0b1000\n"
     ]
    }
   ],
   "source": [
    "print(bin(8))"
   ]
  },
  {
   "cell_type": "code",
   "execution_count": 35,
   "id": "07662fac-64ba-40b5-8e84-7b05f71ca7ed",
   "metadata": {},
   "outputs": [
    {
     "name": "stdin",
     "output_type": "stream",
     "text": [
      "enter a binary number: 1101\n"
     ]
    },
    {
     "name": "stdout",
     "output_type": "stream",
     "text": [
      "equivalent decimal number 13\n"
     ]
    }
   ],
   "source": [
    "'''\n",
    "write a program to convert binary number to decimal number by using while loop only\n",
    "'''\n",
    "bnum=int(input(\"enter a binary number:\"))\n",
    "dnum=i=0\n",
    "while bnum!=0:    #bnum>0\n",
    "    r=bnum%10\n",
    "    dnum=dnum+r*(2**i)\n",
    "    bnum//=10\n",
    "    i+=1\n",
    "print(\"equivalent decimal number\",dnum)"
   ]
  },
  {
   "cell_type": "code",
   "execution_count": 39,
   "id": "ef1b434b-b352-498f-a796-8ced02b1f325",
   "metadata": {},
   "outputs": [
    {
     "name": "stdin",
     "output_type": "stream",
     "text": [
      "enter a binary number:  1101\n"
     ]
    },
    {
     "name": "stdout",
     "output_type": "stream",
     "text": [
      "equivalent hexadecimal number is: 4353\n"
     ]
    }
   ],
   "source": [
    "'''\n",
    "write a program to convert binary number to hexadecimal number using while loop only\n",
    "'''\n",
    "bnum=int(input(\"enter a binary number: \"))\n",
    "hnum=i=0\n",
    "while bnum!=0:\n",
    "    r=bnum%10\n",
    "    hnum=hnum+r*(16**i)\n",
    "    bnum//=10\n",
    "    i+=1\n",
    "print(\"equivalent hexadecimal number is:\",hnum)"
   ]
  },
  {
   "cell_type": "code",
   "execution_count": null,
   "id": "5e2bdc38-b2b6-418b-8558-9b7d524146a6",
   "metadata": {},
   "outputs": [],
   "source": []
  }
 ],
 "metadata": {
  "kernelspec": {
   "display_name": "Python 3 (ipykernel)",
   "language": "python",
   "name": "python3"
  },
  "language_info": {
   "codemirror_mode": {
    "name": "ipython",
    "version": 3
   },
   "file_extension": ".py",
   "mimetype": "text/x-python",
   "name": "python",
   "nbconvert_exporter": "python",
   "pygments_lexer": "ipython3",
   "version": "3.12.7"
  }
 },
 "nbformat": 4,
 "nbformat_minor": 5
}
