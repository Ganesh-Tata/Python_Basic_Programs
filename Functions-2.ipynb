{
 "cells": [
  {
   "cell_type": "code",
   "execution_count": 5,
   "id": "0f6e1dff-83e8-486e-94a0-1fdfbcb543e1",
   "metadata": {},
   "outputs": [
    {
     "name": "stdout",
     "output_type": "stream",
     "text": [
      "10\n",
      "100\n"
     ]
    }
   ],
   "source": [
    "# global and  local variables\n",
    "num=10\n",
    "print(num)\n",
    "def modify():\n",
    "    global num\n",
    "    num=100\n",
    "modify()\n",
    "print(num)"
   ]
  },
  {
   "cell_type": "code",
   "execution_count": 11,
   "id": "0398196f-3d44-4a0b-9ff1-ced930f6404e",
   "metadata": {},
   "outputs": [
    {
     "name": "stdout",
     "output_type": "stream",
     "text": [
      "initial state:False\n",
      "state after first toggle:True\n",
      "state after secound toggle:False\n",
      "state after third toggle:True\n"
     ]
    }
   ],
   "source": [
    "#toggle state function\n",
    "#toggling a global flag\n",
    "#manipulating the value in the global and local variables\n",
    "is_active=False\n",
    "def toggle_state():\n",
    "    global is_active \n",
    "    is_active= not is_active\n",
    "    return is_active\n",
    "print(f\"initial state:{is_active}\")\n",
    "toggle_state()\n",
    "print(f\"state after first toggle:{is_active}\")\n",
    "toggle_state()\n",
    "print(f\"state after secound toggle:{is_active}\")\n",
    "toggle_state()\n",
    "print(f\"state after third toggle:{is_active}\")"
   ]
  },
  {
   "cell_type": "code",
   "execution_count": 17,
   "id": "9068543d-ae64-4f5c-9058-eca1ce812779",
   "metadata": {},
   "outputs": [
    {
     "name": "stdin",
     "output_type": "stream",
     "text": [
      "enter a: 5\n",
      "enter b: 6\n"
     ]
    },
    {
     "name": "stdout",
     "output_type": "stream",
     "text": [
      "resultant sum:11\n"
     ]
    }
   ],
   "source": [
    "#annotations\n",
    "def add(a:int,b:int)->int:\n",
    "    return a+b\n",
    "a=int(input(\"enter a:\"))\n",
    "b=int(input(\"enter b:\"))\n",
    "print(f\"resultant sum:{add(a,b)}\")"
   ]
  },
  {
   "cell_type": "code",
   "execution_count": 41,
   "id": "a6b56a26-664d-4bc0-84e0-b49e8441340f",
   "metadata": {},
   "outputs": [
    {
     "name": "stdout",
     "output_type": "stream",
     "text": [
      "area default:8\n"
     ]
    },
    {
     "name": "stdin",
     "output_type": "stream",
     "text": [
      "enter the lenght: 5\n",
      "enter the breadth: 6\n"
     ]
    },
    {
     "name": "stdout",
     "output_type": "stream",
     "text": [
      "area of the rectangle is 30.0\n"
     ]
    },
    {
     "name": "stdin",
     "output_type": "stream",
     "text": [
      "enter the lenght: 7.7\n",
      "enter the breadth: 8.0\n"
     ]
    },
    {
     "name": "stdout",
     "output_type": "stream",
     "text": [
      "area of the rectangle is 61.6\n"
     ]
    }
   ],
   "source": [
    "'''\n",
    "write a program to find the area of a rectangle of 2 values \n",
    "which was associated with a single annotations and \n",
    "return the values accordingly\n",
    "'''\n",
    "a=2\n",
    "b=4\n",
    "def area(a:int,b:int)->float:\n",
    "    return a*b\n",
    "print(f\"area default:{area(a,b)}\")\n",
    "x=float(input(\"enter the lenght:\"))\n",
    "y=float(input(\"enter the breadth:\"))\n",
    "print(f\"area of the rectangle is {area(x,y)}\")\n",
    "m=float(input(\"enter the lenght:\"))\n",
    "n=float(input(\"enter the breadth:\"))\n",
    "print(f\"area of the rectangle is {area(m,n)}\")"
   ]
  },
  {
   "cell_type": "code",
   "execution_count": 45,
   "id": "4fae0b3c-95b3-4111-9b8e-79084d8d0bf8",
   "metadata": {},
   "outputs": [
    {
     "name": "stdout",
     "output_type": "stream",
     "text": [
      "vijay mark ganesh\n",
      "CSE-ECE\n"
     ]
    }
   ],
   "source": [
    "#seperator function\n",
    "from typing import List,Optional\n",
    "def names(n:List[str],seperator:Optional[str]=' ')->str:\n",
    "    return seperator.join(n)\n",
    "print(names(['vijay','mark','ganesh']))\n",
    "print(names(['CSE','ECE'],seperator='-'))"
   ]
  },
  {
   "cell_type": "code",
   "execution_count": 25,
   "id": "dd264d6a-326c-4a78-846a-6e5b0daf295c",
   "metadata": {},
   "outputs": [
    {
     "name": "stdin",
     "output_type": "stream",
     "text": [
      "enter numbers seperated by spaces: 1 2 3 4\n"
     ]
    },
    {
     "name": "stdout",
     "output_type": "stream",
     "text": [
      "[1.0, 2.0, 3.0, 4.0]\n",
      "Sum:10.0\n"
     ]
    }
   ],
   "source": [
    "#tuple arg keyword functions\n",
    "#program to find the sum of n user input values\n",
    "#by tuple args syntax def udn(*args):\n",
    "def sumnum(*args):\n",
    "    return sum(args)\n",
    "nums=input(\"enter numbers seperated by spaces:\")\n",
    "numbers=[float(x) for x in nums.split()]\n",
    "print(numbers)\n",
    "result=sumnum(*numbers)\n",
    "print(f\"Sum:{result}\")"
   ]
  },
  {
   "cell_type": "code",
   "execution_count": 33,
   "id": "752fb546-c138-45e3-a150-72805000876c",
   "metadata": {},
   "outputs": [
    {
     "name": "stdin",
     "output_type": "stream",
     "text": [
      "enter numbers seperated by space: 8 2 3 4 1 9 5\n"
     ]
    },
    {
     "name": "stdout",
     "output_type": "stream",
     "text": [
      "Sorted:[1, 2, 3, 4, 5, 8, 9]\n",
      "descending: [9, 8, 5, 4, 3, 2, 1]\n"
     ]
    }
   ],
   "source": [
    "'''\n",
    "sort a tuple and reverse it by using string operations\n",
    "'''\n",
    "from typing import List,Union\n",
    "def sortnum(*args):\n",
    "    return sorted(args)\n",
    "nums=input(\"enter numbers seperated by space:\")\n",
    "numbers=[int(x) for x in nums.split()]\n",
    "result=sortnum(*numbers)\n",
    "print(f\"Sorted:{result}\")\n",
    "x=result[::-1]\n",
    "print(\"descending:\",x)"
   ]
  },
  {
   "cell_type": "code",
   "execution_count": 39,
   "id": "67847271-76d1-4462-9d08-93e7830d8f76",
   "metadata": {},
   "outputs": [
    {
     "name": "stdout",
     "output_type": "stream",
     "text": [
      "name:Ganesh\n",
      "age:20\n"
     ]
    }
   ],
   "source": [
    "'''\n",
    "keyword arguments\n",
    "* -> numbers\n",
    "**args -> string with value uisng a dictionary\n",
    "key-value pair\n",
    "'''\n",
    "def info(**kwargs):\n",
    "    for key,value in kwargs.items():\n",
    "        print(f\"{key}:{value}\")\n",
    "info(name='Ganesh',age=20)"
   ]
  },
  {
   "cell_type": "code",
   "execution_count": 43,
   "id": "e977db13-af75-4654-b239-b278f4d13897",
   "metadata": {},
   "outputs": [
    {
     "name": "stdout",
     "output_type": "stream",
     "text": [
      "Hello!\n",
      "name=>Ganesh\n",
      "age=>20\n",
      "city=>Vijayawada\n",
      "language=>English\n"
     ]
    }
   ],
   "source": [
    "'''\n",
    "keyword arguments\n",
    "* -> numbers\n",
    "**args -> string with value uisng a dictionary\n",
    "key-value pair\n",
    "'''\n",
    "def info(hi,**kwargs):\n",
    "    print(hi)\n",
    "    for key,value in kwargs.items():\n",
    "        print(f\"{key}=>{value}\")\n",
    "info(\"Hello!\",name='Ganesh',age='20',city='Vijayawada',language='English')"
   ]
  },
  {
   "cell_type": "code",
   "execution_count": null,
   "id": "3cb420cd-6a0d-4c6b-a43e-eaefea4b6e51",
   "metadata": {},
   "outputs": [],
   "source": [
    "# 3 marks with different subjects \n"
   ]
  }
 ],
 "metadata": {
  "kernelspec": {
   "display_name": "Python 3 (ipykernel)",
   "language": "python",
   "name": "python3"
  },
  "language_info": {
   "codemirror_mode": {
    "name": "ipython",
    "version": 3
   },
   "file_extension": ".py",
   "mimetype": "text/x-python",
   "name": "python",
   "nbconvert_exporter": "python",
   "pygments_lexer": "ipython3",
   "version": "3.12.7"
  }
 },
 "nbformat": 4,
 "nbformat_minor": 5
}
