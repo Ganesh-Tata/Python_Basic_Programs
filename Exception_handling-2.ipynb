{
 "cells": [
  {
   "cell_type": "code",
   "execution_count": 5,
   "id": "5d2fa611-aace-4573-adfe-dbd8d9209275",
   "metadata": {},
   "outputs": [
    {
     "name": "stdout",
     "output_type": "stream",
     "text": [
      "rasing exception...\n",
      "performing clean with finally...\n"
     ]
    },
    {
     "ename": "ValueError",
     "evalue": "",
     "output_type": "error",
     "traceback": [
      "\u001b[1;31m---------------------------------------------------------------------------\u001b[0m",
      "\u001b[1;31mValueError\u001b[0m                                Traceback (most recent call last)",
      "Cell \u001b[1;32mIn[5], line 4\u001b[0m\n\u001b[0;32m      2\u001b[0m \u001b[38;5;28;01mtry\u001b[39;00m:\n\u001b[0;32m      3\u001b[0m     \u001b[38;5;28mprint\u001b[39m(\u001b[38;5;124m\"\u001b[39m\u001b[38;5;124mrasing exception...\u001b[39m\u001b[38;5;124m\"\u001b[39m)\n\u001b[1;32m----> 4\u001b[0m     \u001b[38;5;28;01mraise\u001b[39;00m \u001b[38;5;167;01mValueError\u001b[39;00m\n\u001b[0;32m      5\u001b[0m \u001b[38;5;28;01mfinally\u001b[39;00m:\n\u001b[0;32m      6\u001b[0m     \u001b[38;5;28mprint\u001b[39m(\u001b[38;5;124m\"\u001b[39m\u001b[38;5;124mperforming clean with finally...\u001b[39m\u001b[38;5;124m\"\u001b[39m)\n",
      "\u001b[1;31mValueError\u001b[0m: "
     ]
    }
   ],
   "source": [
    "# try finally block \n",
    "try:\n",
    "    print(\"rasing exception...\")\n",
    "    raise ValueError\n",
    "finally:\n",
    "    print(\"performing clean with finally...\")"
   ]
  },
  {
   "cell_type": "code",
   "execution_count": 4,
   "id": "202b6fdb-e72d-42b6-bc7c-1df0cf12c798",
   "metadata": {},
   "outputs": [
    {
     "name": "stdout",
     "output_type": "stream",
     "text": [
      "rasing exception....\n",
      "Exception caught...\n",
      "performing in the finally block...\n"
     ]
    }
   ],
   "source": [
    "try:\n",
    "    print(\"rasing exception....\")\n",
    "    raise ValueError\n",
    "except:\n",
    "    print(\"Exception caught...\")\n",
    "finally:\n",
    "    print(\"performing in the finally block...\")"
   ]
  },
  {
   "cell_type": "code",
   "execution_count": 6,
   "id": "90ad78eb-4a03-4219-9945-c53a4d88cc2a",
   "metadata": {},
   "outputs": [
    {
     "name": "stdout",
     "output_type": "stream",
     "text": [
      "Dividing two strings....\n",
      "This is the final block... which executes every time\n",
      "Here,the type error is handled which is raised in the inner try\n"
     ]
    }
   ],
   "source": [
    "'''\n",
    "program having finally block to re-raise \n",
    "an exception that we will handle by an \n",
    "outer try except block\n",
    "'''\n",
    "try:\n",
    "    print(\"Dividing two strings....\")\n",
    "    try:\n",
    "        quo=\"abc\"/\"def\"\n",
    "        print(quo)\n",
    "    finally:\n",
    "        print(\"This is the final block... which executes every time\")\n",
    "except TypeError:\n",
    "    print(\"Here,the type error is handled which is raised in the inner try\")"
   ]
  },
  {
   "cell_type": "code",
   "execution_count": 7,
   "id": "d0a4934a-0830-41cb-835d-77435dc823a8",
   "metadata": {},
   "outputs": [
    {
     "name": "stdout",
     "output_type": "stream",
     "text": [
      "does not exist....\n"
     ]
    },
    {
     "ename": "FileNotFoundError",
     "evalue": "",
     "output_type": "error",
     "traceback": [
      "\u001b[1;31m---------------------------------------------------------------------------\u001b[0m",
      "\u001b[1;31mFileNotFoundError\u001b[0m                         Traceback (most recent call last)",
      "Cell \u001b[1;32mIn[7], line 2\u001b[0m\n\u001b[0;32m      1\u001b[0m \u001b[38;5;28;01mtry\u001b[39;00m:\n\u001b[1;32m----> 2\u001b[0m     \u001b[38;5;28mopen\u001b[39m(\u001b[38;5;124m\"\u001b[39m\u001b[38;5;124mabcdef.txt\u001b[39m\u001b[38;5;124m\"\u001b[39m) \u001b[38;5;66;03m#calling the file that is not at all existiing\u001b[39;00m\n\u001b[0;32m      3\u001b[0m \u001b[38;5;28;01mexcept\u001b[39;00m:\n",
      "File \u001b[1;32m~\\anaconda3\\Lib\\site-packages\\IPython\\core\\interactiveshell.py:324\u001b[0m, in \u001b[0;36m_modified_open\u001b[1;34m(file, *args, **kwargs)\u001b[0m\n\u001b[0;32m    318\u001b[0m     \u001b[38;5;28;01mraise\u001b[39;00m \u001b[38;5;167;01mValueError\u001b[39;00m(\n\u001b[0;32m    319\u001b[0m         \u001b[38;5;124mf\u001b[39m\u001b[38;5;124m\"\u001b[39m\u001b[38;5;124mIPython won\u001b[39m\u001b[38;5;124m'\u001b[39m\u001b[38;5;124mt let you open fd=\u001b[39m\u001b[38;5;132;01m{\u001b[39;00mfile\u001b[38;5;132;01m}\u001b[39;00m\u001b[38;5;124m by default \u001b[39m\u001b[38;5;124m\"\u001b[39m\n\u001b[0;32m    320\u001b[0m         \u001b[38;5;124m\"\u001b[39m\u001b[38;5;124mas it is likely to crash IPython. If you know what you are doing, \u001b[39m\u001b[38;5;124m\"\u001b[39m\n\u001b[0;32m    321\u001b[0m         \u001b[38;5;124m\"\u001b[39m\u001b[38;5;124myou can use builtins\u001b[39m\u001b[38;5;124m'\u001b[39m\u001b[38;5;124m open.\u001b[39m\u001b[38;5;124m\"\u001b[39m\n\u001b[0;32m    322\u001b[0m     )\n\u001b[1;32m--> 324\u001b[0m \u001b[38;5;28;01mreturn\u001b[39;00m io_open(file, \u001b[38;5;241m*\u001b[39margs, \u001b[38;5;241m*\u001b[39m\u001b[38;5;241m*\u001b[39mkwargs)\n",
      "\u001b[1;31mFileNotFoundError\u001b[0m: [Errno 2] No such file or directory: 'abcdef.txt'",
      "\nDuring handling of the above exception, another exception occurred:\n",
      "\u001b[1;31mFileNotFoundError\u001b[0m                         Traceback (most recent call last)",
      "Cell \u001b[1;32mIn[7], line 5\u001b[0m\n\u001b[0;32m      3\u001b[0m \u001b[38;5;28;01mexcept\u001b[39;00m:\n\u001b[0;32m      4\u001b[0m     \u001b[38;5;28mprint\u001b[39m(\u001b[38;5;124m\"\u001b[39m\u001b[38;5;124mdoes not exist....\u001b[39m\u001b[38;5;124m\"\u001b[39m)\n\u001b[1;32m----> 5\u001b[0m     \u001b[38;5;28;01mraise\u001b[39;00m \u001b[38;5;167;01mFileNotFoundError\u001b[39;00m\n",
      "\u001b[1;31mFileNotFoundError\u001b[0m: "
     ]
    }
   ],
   "source": [
    "try:\n",
    "    open(\"abcdef.txt\") #calling the file that is not at all existiing\n",
    "except:\n",
    "    print(\"does not exist....\")\n",
    "    raise FileNotFoundError"
   ]
  },
  {
   "cell_type": "code",
   "execution_count": 18,
   "id": "17d1e2ba-ac52-4adf-b733-907b285143a2",
   "metadata": {},
   "outputs": [
    {
     "name": "stdin",
     "output_type": "stream",
     "text": [
      "Enter the temperature in celsius: 100\n"
     ]
    },
    {
     "ename": "AssertionError",
     "evalue": "its freezing",
     "output_type": "error",
     "traceback": [
      "\u001b[1;31m---------------------------------------------------------------------------\u001b[0m",
      "\u001b[1;31mAssertionError\u001b[0m                            Traceback (most recent call last)",
      "Cell \u001b[1;32mIn[18], line 4\u001b[0m\n\u001b[0;32m      2\u001b[0m c\u001b[38;5;241m=\u001b[39m\u001b[38;5;28mint\u001b[39m(\u001b[38;5;28minput\u001b[39m(\u001b[38;5;124m\"\u001b[39m\u001b[38;5;124mEnter the temperature in celsius:\u001b[39m\u001b[38;5;124m\"\u001b[39m))\n\u001b[0;32m      3\u001b[0m f\u001b[38;5;241m=\u001b[39m(c\u001b[38;5;241m*\u001b[39m\u001b[38;5;241m9\u001b[39m\u001b[38;5;241m/\u001b[39m\u001b[38;5;241m5\u001b[39m)\u001b[38;5;241m+\u001b[39m\u001b[38;5;241m32\u001b[39m\n\u001b[1;32m----> 4\u001b[0m \u001b[38;5;28;01massert\u001b[39;00m (f\u001b[38;5;241m<\u001b[39m\u001b[38;5;241m=\u001b[39m\u001b[38;5;241m32\u001b[39m),\u001b[38;5;124m\"\u001b[39m\u001b[38;5;124mits freezing\u001b[39m\u001b[38;5;124m\"\u001b[39m\n\u001b[0;32m      5\u001b[0m \u001b[38;5;28mprint\u001b[39m(\u001b[38;5;124m\"\u001b[39m\u001b[38;5;124mTemperature in Fahrenheit=\u001b[39m\u001b[38;5;124m\"\u001b[39m,f)\n",
      "\u001b[1;31mAssertionError\u001b[0m: its freezing"
     ]
    }
   ],
   "source": [
    "# assert statement\n",
    "c=int(input(\"Enter the temperature in celsius:\"))\n",
    "f=(c*9/5)+32\n",
    "assert (f<=32),\"its freezing\"\n",
    "print(\"Temperature in Fahrenheit=\",f)"
   ]
  },
  {
   "cell_type": "code",
   "execution_count": 15,
   "id": "ceed9906-c2f0-42cb-bbb7-37408a99a8bf",
   "metadata": {},
   "outputs": [
    {
     "name": "stdout",
     "output_type": "stream",
     "text": [
      "file does not exist\n"
     ]
    },
    {
     "ename": "FileNotFoundError",
     "evalue": "[Errno 2] No such file or directory: 'abcd.txt'",
     "output_type": "error",
     "traceback": [
      "\u001b[1;31m---------------------------------------------------------------------------\u001b[0m",
      "\u001b[1;31mFileNotFoundError\u001b[0m                         Traceback (most recent call last)",
      "Cell \u001b[1;32mIn[15], line 2\u001b[0m\n\u001b[0;32m      1\u001b[0m \u001b[38;5;28;01mtry\u001b[39;00m:\n\u001b[1;32m----> 2\u001b[0m     f\u001b[38;5;241m=\u001b[39m\u001b[38;5;28mopen\u001b[39m(\u001b[38;5;124m\"\u001b[39m\u001b[38;5;124mabcd.txt\u001b[39m\u001b[38;5;124m\"\u001b[39m)\n\u001b[0;32m      3\u001b[0m \u001b[38;5;28;01mexcept\u001b[39;00m:\n\u001b[0;32m      4\u001b[0m     \u001b[38;5;28mprint\u001b[39m(\u001b[38;5;124m\"\u001b[39m\u001b[38;5;124mfile does not exist\u001b[39m\u001b[38;5;124m\"\u001b[39m)\n",
      "File \u001b[1;32m~\\anaconda3\\Lib\\site-packages\\IPython\\core\\interactiveshell.py:324\u001b[0m, in \u001b[0;36m_modified_open\u001b[1;34m(file, *args, **kwargs)\u001b[0m\n\u001b[0;32m    317\u001b[0m \u001b[38;5;28;01mif\u001b[39;00m file \u001b[38;5;129;01min\u001b[39;00m {\u001b[38;5;241m0\u001b[39m, \u001b[38;5;241m1\u001b[39m, \u001b[38;5;241m2\u001b[39m}:\n\u001b[0;32m    318\u001b[0m     \u001b[38;5;28;01mraise\u001b[39;00m \u001b[38;5;167;01mValueError\u001b[39;00m(\n\u001b[0;32m    319\u001b[0m         \u001b[38;5;124mf\u001b[39m\u001b[38;5;124m\"\u001b[39m\u001b[38;5;124mIPython won\u001b[39m\u001b[38;5;124m'\u001b[39m\u001b[38;5;124mt let you open fd=\u001b[39m\u001b[38;5;132;01m{\u001b[39;00mfile\u001b[38;5;132;01m}\u001b[39;00m\u001b[38;5;124m by default \u001b[39m\u001b[38;5;124m\"\u001b[39m\n\u001b[0;32m    320\u001b[0m         \u001b[38;5;124m\"\u001b[39m\u001b[38;5;124mas it is likely to crash IPython. If you know what you are doing, \u001b[39m\u001b[38;5;124m\"\u001b[39m\n\u001b[0;32m    321\u001b[0m         \u001b[38;5;124m\"\u001b[39m\u001b[38;5;124myou can use builtins\u001b[39m\u001b[38;5;124m'\u001b[39m\u001b[38;5;124m open.\u001b[39m\u001b[38;5;124m\"\u001b[39m\n\u001b[0;32m    322\u001b[0m     )\n\u001b[1;32m--> 324\u001b[0m \u001b[38;5;28;01mreturn\u001b[39;00m io_open(file, \u001b[38;5;241m*\u001b[39margs, \u001b[38;5;241m*\u001b[39m\u001b[38;5;241m*\u001b[39mkwargs)\n",
      "\u001b[1;31mFileNotFoundError\u001b[0m: [Errno 2] No such file or directory: 'abcd.txt'"
     ]
    }
   ],
   "source": [
    "try:\n",
    "    f=open(\"abcd.txt\")\n",
    "except:\n",
    "    print(\"file does not exist\")\n",
    "    raise "
   ]
  },
  {
   "cell_type": "code",
   "execution_count": 23,
   "id": "f433e3c6-148f-4ec0-bbd2-78cfd883b325",
   "metadata": {},
   "outputs": [
    {
     "name": "stdin",
     "output_type": "stream",
     "text": [
      "enter a number: 5\n"
     ]
    },
    {
     "name": "stdout",
     "output_type": "stream",
     "text": [
      "25\n"
     ]
    }
   ],
   "source": [
    "'''\n",
    "write a program that prompts the user to enter a number\n",
    "and print its square perform exception handling for \n",
    "keyboard interrupt\n",
    "'''\n",
    "num=int(input(\"enter a number:\"))\n",
    "try:\n",
    "    output=num*num\n",
    "    print(output)\n",
    "except KeyboardInterrupt:\n",
    "    print(\"program has been interrupted\")"
   ]
  },
  {
   "cell_type": "code",
   "execution_count": 27,
   "id": "e6d2775c-e7f6-48d2-9a3e-5962f788fa6c",
   "metadata": {},
   "outputs": [
    {
     "name": "stdout",
     "output_type": "stream",
     "text": [
      "1 2 3 4 5 6 7 8 9 10 11 12 13 14 15 16 17 18 19 20 21 22 23 24 25 26 27 28 29 30 "
     ]
    }
   ],
   "source": [
    "'''\n",
    "program which infinitly print natural numbers\n",
    "raise an exception after printing first 30 numbers\n",
    "exit the program\n",
    "'''\n",
    "n=0\n",
    "while True:\n",
    "    try:\n",
    "        n=n+1\n",
    "        if n==31:\n",
    "            raise StopIteration\n",
    "    except StopIteration:\n",
    "        break\n",
    "    else:\n",
    "        print(n,end=' ')"
   ]
  },
  {
   "cell_type": "code",
   "execution_count": 46,
   "id": "452ef84c-0917-445e-8c54-7128d77afac1",
   "metadata": {},
   "outputs": [
    {
     "name": "stdin",
     "output_type": "stream",
     "text": [
      "enter size: 4\n",
      "enter element1: 1\n",
      "enter element2: 2\n",
      "enter element3: 3\n",
      "enter element4: 4\n",
      "enter index to access elements...from 0 to 3 6\n"
     ]
    },
    {
     "name": "stdout",
     "output_type": "stream",
     "text": [
      "error : index.....Out of range.......\n"
     ]
    }
   ],
   "source": [
    "try:\n",
    "    size=int(input(\"enter size:\"))\n",
    "    user_list=[]\n",
    "    for i in range(size):\n",
    "        val=int(input(f\"enter element{i+1}:\"))\n",
    "        user_list.append(val)\n",
    "    index=int(input(f\"enter index to access elements...from 0 to {size-1}\"))\n",
    "    print(\"element at index :\",index,\" is \",user_list[index])\n",
    "except ValueError: \n",
    "    print(\"error : please enter only integers \") \n",
    "except IndexError: \n",
    "    print(\"error : index.....Out of range.......\")"
   ]
  },
  {
   "cell_type": "code",
   "execution_count": null,
   "id": "f1b945e6-b03b-4e99-9c69-05e9a4d8b605",
   "metadata": {},
   "outputs": [],
   "source": []
  }
 ],
 "metadata": {
  "kernelspec": {
   "display_name": "Python 3 (ipykernel)",
   "language": "python",
   "name": "python3"
  },
  "language_info": {
   "codemirror_mode": {
    "name": "ipython",
    "version": 3
   },
   "file_extension": ".py",
   "mimetype": "text/x-python",
   "name": "python",
   "nbconvert_exporter": "python",
   "pygments_lexer": "ipython3",
   "version": "3.13.5"
  }
 },
 "nbformat": 4,
 "nbformat_minor": 5
}
