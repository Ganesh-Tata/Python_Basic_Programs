{
 "cells": [
  {
   "cell_type": "code",
   "execution_count": null,
   "id": "1452b90d-348f-42dc-a36f-47e2e8a2ca98",
   "metadata": {},
   "outputs": [],
   "source": [
    "'''\n",
    "__del__():\n",
    "const:\n",
    "class abc:\n",
    "        def __init__(self,v1,v2):\n",
    "            self.v1=v1\n",
    "        def __del__(self):\n",
    "            abc.v1\n",
    "'''"
   ]
  },
  {
   "cell_type": "code",
   "execution_count": 3,
   "id": "5b66432f-b3d2-4cc6-bee5-56c2ba56f7a3",
   "metadata": {},
   "outputs": [
    {
     "name": "stdout",
     "output_type": "stream",
     "text": [
      "Object variable is: 11\n",
      "Class variable is: 10\n",
      "Object variable is: 12\n",
      "Class variable is: 20\n",
      "Object variable is: 13\n",
      "Class variable is: 30\n"
     ]
    }
   ],
   "source": [
    "'''del method/class variable with const access'''\n",
    "class abc():\n",
    "    class_var=0\n",
    "    def __init__(self,var):\n",
    "        abc.class_var+=10\n",
    "        self.var=var\n",
    "        print(\"Object variable is:\",var)\n",
    "        print(\"Class variable is:\",abc.class_var)\n",
    "obj1=abc(11)\n",
    "obj2=abc(12)\n",
    "obj3=abc(13)"
   ]
  },
  {
   "cell_type": "code",
   "execution_count": 11,
   "id": "60af1fbc-e5e1-4642-a363-cd7b670c1a40",
   "metadata": {},
   "outputs": [
    {
     "name": "stdout",
     "output_type": "stream",
     "text": [
      "Object variable is: 11\n",
      "Class variable is: 10\n",
      "Object variable with 11 is deleted\n",
      "Object variable is: 12\n",
      "Class variable is: 19\n",
      "Object variable is: 13\n",
      "Class variable is: 29\n",
      "Object variable with 13 is deleted\n",
      "Object variable with 11 is deleted\n",
      "Object variable with 12 is deleted\n",
      "Object variable with 13 is deleted\n"
     ]
    }
   ],
   "source": [
    "'''del method/class variable with const access'''\n",
    "class abc():\n",
    "    class_var=0\n",
    "    def __init__(self,var):\n",
    "        abc.class_var+=10\n",
    "        self.var=var\n",
    "        print(\"Object variable is:\",var)\n",
    "        print(\"Class variable is:\",abc.class_var)\n",
    "    def __del__(self):\n",
    "        abc.class_var-=1\n",
    "        print(\"Object variable with %d is deleted\" %self.var)\n",
    "obj1=abc(11)\n",
    "obj2=abc(12)\n",
    "obj3=abc(13)\n",
    "del obj1\n",
    "del obj2\n",
    "del obj3"
   ]
  },
  {
   "cell_type": "code",
   "execution_count": 3,
   "id": "8927af65-3a9c-4620-b11d-8f3b9d448b0c",
   "metadata": {},
   "outputs": [
    {
     "name": "stdin",
     "output_type": "stream",
     "text": [
      "Enter the value of a: 4\n",
      "Enter the value of b: 5\n"
     ]
    },
    {
     "name": "stdout",
     "output_type": "stream",
     "text": [
      "calc object created\n",
      "Created Calc obj was deleted\n",
      "Addition: 9\n",
      "Subtract: -1\n"
     ]
    }
   ],
   "source": [
    "class calc:\n",
    "    def __init__(self,a,b):\n",
    "        self.a=a\n",
    "        self.b=b\n",
    "        print(\"calc object created\")\n",
    "    def add(self):\n",
    "        return self.a+self.b\n",
    "    def sub(self):\n",
    "        return self.a-self.b\n",
    "    def __del__(self):\n",
    "        print(\"Created Calc obj was deleted...\")\n",
    "a=int(input(\"Enter the value of a:\"))\n",
    "b=int(input(\"Enter the value of b:\"))\n",
    "c=calc(a,b)\n",
    "print(\"Addition:\",c.add())\n",
    "print(\"Subtract:\",c.sub())\n",
    "del calc"
   ]
  },
  {
   "cell_type": "code",
   "execution_count": 5,
   "id": "6f8dd1d4-62c3-4c7f-8d6d-679234b6ebc6",
   "metadata": {},
   "outputs": [
    {
     "name": "stdin",
     "output_type": "stream",
     "text": [
      "Enter the radius: 5\n"
     ]
    },
    {
     "name": "stdout",
     "output_type": "stream",
     "text": [
      "circle object created\n",
      "Created circle obj was deleted...\n",
      "Area of the circle: 78.53981633974483\n",
      "circumference of the circle: 31.41592653589793\n"
     ]
    }
   ],
   "source": [
    "''' code  to calc area and circumference of a circle by using a class\n",
    "rectangle, create a constructor and surface functions for area circ \n",
    "and delete the constructor, import math pi value '''\n",
    "import math\n",
    "class circle:\n",
    "    def __init__(self,a,b):\n",
    "        self.a=a\n",
    "        self.b=b\n",
    "        print(\"circle object created\")\n",
    "    def area(self):\n",
    "        return self.a**2*self.b\n",
    "    def circumference(self):\n",
    "        return 2*self.b*self.a\n",
    "    def __del__(self):\n",
    "        print(\"Created circle obj was deleted...\")\n",
    "a=int(input(\"Enter the radius:\"))\n",
    "b=math.pi\n",
    "c=circle(a,b)\n",
    "print(\"Area of the circle:\",c.area())\n",
    "print(\"circumference of the circle:\",c.circumference())\n",
    "del circle"
   ]
  },
  {
   "cell_type": "code",
   "execution_count": null,
   "id": "96cf10a6-be6e-4bba-8426-500763068e60",
   "metadata": {},
   "outputs": [],
   "source": [
    "'''\n",
    "special methods\n",
    "__cmp__() -> object comparision\n",
    "__len__() -> len(objects)\n",
    "__repr__() -> str representation\n",
    "__call__() -> n args\n",
    "\n",
    "comparative\n",
    "__lt__(),__le__(),\n",
    "__eq__(),__ne__(),\n",
    "__gt__(),__ge__(),\n",
    "__hash__()-used for an obj / it will decide the place of any object data structure\n",
    "__iter__() - iteration over objects\n",
    "__getitem__() --> indexing key-> \n",
    "__getitem__(self,key)\n",
    "__setitems__() --> (self,key,value)\n",
    "\n",
    "'''"
   ]
  },
  {
   "cell_type": "code",
   "execution_count": 7,
   "id": "c4053d07-ca5b-4f54-84cc-22f6fe14f441",
   "metadata": {},
   "outputs": [
    {
     "name": "stdout",
     "output_type": "stream",
     "text": [
      "6\n",
      "[1, 2, 3, 100, 5, 6, 7, 8, 9, 10]\n"
     ]
    }
   ],
   "source": [
    "class Numbers:\n",
    "    def __init__(self,myList):\n",
    "        self.myList=myList\n",
    "    def __getitem__(self,index):\n",
    "        return self.myList[index]\n",
    "    def __setitem__(self,index,val):\n",
    "        self.myList[index]=val\n",
    "numList=Numbers([1,2,3,4,5,6,7,8,9,10])\n",
    "print(numList[5])\n",
    "numList[3]=100\n",
    "print(numList.myList)"
   ]
  },
  {
   "cell_type": "code",
   "execution_count": 11,
   "id": "97dc7b3b-f7be-40df-86b2-bf8eb6b21e20",
   "metadata": {},
   "outputs": [
    {
     "name": "stdout",
     "output_type": "stream",
     "text": [
      "sum of row 0: 3\n",
      "sum of row 2: 11\n",
      "New sum of row 1: 30\n"
     ]
    }
   ],
   "source": [
    "# math evaluation on get item set item\n",
    "'''code to add the sum of rowin a 2-d list'''\n",
    "\n",
    "class RowSum:\n",
    "    def __init__(self,matrix):\n",
    "        self.matrix=matrix\n",
    "    def __getitem__(self,row):\n",
    "        return sum(self.matrix[row])\n",
    "    def __setitem__(self,row,new_row):\n",
    "        self.matrix[row]=new_row\n",
    "\n",
    "m=RowSum([[1,2],[3,4],[5,6]])\n",
    "\n",
    "#sum of 0 index row values = 3\n",
    "#sum of 1 index row values = 11\n",
    "\n",
    "print(\"sum of row 0:\",m[0])\n",
    "print(\"sum of row 2:\",m[2])\n",
    "m[1]=[10,20]\n",
    "\n",
    "#sum of 1 index row values, which are new = 30\n",
    "\n",
    "print(\"New sum of row 1:\",m[1])"
   ]
  },
  {
   "cell_type": "code",
   "execution_count": null,
   "id": "4e1bea04-9634-4f3b-835a-fbcac9e840a0",
   "metadata": {},
   "outputs": [],
   "source": []
  }
 ],
 "metadata": {
  "kernelspec": {
   "display_name": "Python 3 (ipykernel)",
   "language": "python",
   "name": "python3"
  },
  "language_info": {
   "codemirror_mode": {
    "name": "ipython",
    "version": 3
   },
   "file_extension": ".py",
   "mimetype": "text/x-python",
   "name": "python",
   "nbconvert_exporter": "python",
   "pygments_lexer": "ipython3",
   "version": "3.12.7"
  }
 },
 "nbformat": 4,
 "nbformat_minor": 5
}
