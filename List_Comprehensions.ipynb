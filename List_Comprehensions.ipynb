{
 "cells": [
  {
   "cell_type": "code",
   "execution_count": null,
   "id": "235a9d02-88f7-4b90-a933-649894a47817",
   "metadata": {},
   "outputs": [],
   "source": [
    "'''\n",
    "list comprehensions\n",
    "'''"
   ]
  },
  {
   "cell_type": "code",
   "execution_count": 1,
   "id": "c01d0d48-cb18-464f-becb-e381898579f6",
   "metadata": {},
   "outputs": [
    {
     "name": "stdout",
     "output_type": "stream",
     "text": [
      "[1, 4, 9, 16, 25, 36, 49, 64, 81, 100]\n"
     ]
    }
   ],
   "source": [
    "# to print squares from 1 to 10 numbers\n",
    "print([num**2 for num in range(1,11)])"
   ]
  },
  {
   "cell_type": "code",
   "execution_count": 2,
   "id": "c382055a-7817-49a4-9408-5f520cfac822",
   "metadata": {},
   "outputs": [
    {
     "name": "stdout",
     "output_type": "stream",
     "text": [
      "[2, 4, 6, 8, 10]\n"
     ]
    }
   ],
   "source": [
    "# to print even numbers from 1 to 10\n",
    "print([x for x in range(1,11) if x%2==0])"
   ]
  },
  {
   "cell_type": "code",
   "execution_count": 6,
   "id": "7f05cdea-4f07-42cc-b5a3-d88700f2842b",
   "metadata": {},
   "outputs": [
    {
     "name": "stdout",
     "output_type": "stream",
     "text": [
      "['APPLE', 'BANANA', 'CHERRY']\n"
     ]
    }
   ],
   "source": [
    "words=['apple','banana','cherry']\n",
    "print([word.upper() for word in words])"
   ]
  },
  {
   "cell_type": "code",
   "execution_count": null,
   "id": "e7c2bc9b-33a1-4ce4-a4cc-95cf3cab7584",
   "metadata": {},
   "outputs": [],
   "source": []
  }
 ],
 "metadata": {
  "kernelspec": {
   "display_name": "Python 3 (ipykernel)",
   "language": "python",
   "name": "python3"
  },
  "language_info": {
   "codemirror_mode": {
    "name": "ipython",
    "version": 3
   },
   "file_extension": ".py",
   "mimetype": "text/x-python",
   "name": "python",
   "nbconvert_exporter": "python",
   "pygments_lexer": "ipython3",
   "version": "3.13.5"
  }
 },
 "nbformat": 4,
 "nbformat_minor": 5
}
