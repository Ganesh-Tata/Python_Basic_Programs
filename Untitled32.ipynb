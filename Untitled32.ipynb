{
 "cells": [
  {
   "cell_type": "code",
   "execution_count": 9,
   "id": "8194971e-fbf1-473a-a7c3-e3d97bca44ba",
   "metadata": {},
   "outputs": [
    {
     "name": "stdout",
     "output_type": "stream",
     "text": [
      "255\n"
     ]
    }
   ],
   "source": [
    "person = {\"vijay\":{\"salary\":100000,\"emid\":24},\n",
    "          \"steve\":{\"salary\":200000,\"emid\":255}}\n",
    "print(person[\"steve\"][\"emid\"])"
   ]
  },
  {
   "cell_type": "code",
   "execution_count": 7,
   "id": "209834f3-5d5a-4c0d-9d5c-f3279f708c9a",
   "metadata": {},
   "outputs": [
    {
     "name": "stdout",
     "output_type": "stream",
     "text": [
      "Vijayawada\n"
     ]
    }
   ],
   "source": [
    "loc = {\n",
    "    (40.32323,-56.2342):\"Newyork\",\n",
    "    (34.35325,-65.2352):\"Vijayawada\"\n",
    "}\n",
    "print(loc[(34.35325,-65.2352)])"
   ]
  },
  {
   "cell_type": "code",
   "execution_count": 11,
   "id": "28923ab9-759d-47d6-8b7f-71cff8874370",
   "metadata": {},
   "outputs": [],
   "source": [
    "#sets"
   ]
  },
  {
   "cell_type": "code",
   "execution_count": 17,
   "id": "dd479fd8-646d-4e66-8a9b-67e1bcafeb53",
   "metadata": {},
   "outputs": [
    {
     "name": "stdout",
     "output_type": "stream",
     "text": [
      "union: {1, 2, 3, 4, 5}\n",
      "intersection: {3}\n",
      "difference: {1, 2}\n"
     ]
    }
   ],
   "source": [
    "a={1,2,3}\n",
    "b={3,4,5}\n",
    "print(\"union:\",a.union(b))\n",
    "print(\"intersection:\",a.intersection(b))\n",
    "print(\"difference:\",a.difference(b))"
   ]
  },
  {
   "cell_type": "code",
   "execution_count": 19,
   "id": "745f5c76-f5ab-4fef-a844-2b6d44fcbbaf",
   "metadata": {},
   "outputs": [
    {
     "name": "stdout",
     "output_type": "stream",
     "text": [
      "symmetric difference: {1, 2, 4, 5}\n"
     ]
    }
   ],
   "source": [
    "print(\"symmetric difference:\",a.symmetric_difference(b))"
   ]
  },
  {
   "cell_type": "code",
   "execution_count": 21,
   "id": "2ef8fef2-1c06-451e-bdd3-1623cf6fbef0",
   "metadata": {},
   "outputs": [
    {
     "name": "stdout",
     "output_type": "stream",
     "text": [
      "a is subset to b True\n",
      "b is subset to a False\n"
     ]
    }
   ],
   "source": [
    "a={1,2}\n",
    "b={1,2,3,4,5,6}\n",
    "print(\"a is subset to b\",a.issubset(b))\n",
    "print(\"b is subset to a\",b.issubset(a))\n"
   ]
  },
  {
   "cell_type": "code",
   "execution_count": 23,
   "id": "0d962791-0d19-472a-b0f2-6c1404006e57",
   "metadata": {},
   "outputs": [
    {
     "name": "stdout",
     "output_type": "stream",
     "text": [
      "subset or not True\n",
      "proper subset True\n",
      "superset or not False\n",
      "proper superset or not False\n"
     ]
    }
   ],
   "source": [
    "print(\"subset or not\",a<=b)\n",
    "print(\"proper subset\",a<b)\n",
    "print(\"superset or not\",a>=b)\n",
    "print(\"proper superset or not\",a>b)\n"
   ]
  },
  {
   "cell_type": "code",
   "execution_count": 25,
   "id": "5c44a59d-174d-423b-a2a2-3f9b010ecf32",
   "metadata": {},
   "outputs": [
    {
     "name": "stdout",
     "output_type": "stream",
     "text": [
      "{1, 2, 3}\n"
     ]
    }
   ],
   "source": [
    "nums=[1,2,2,3]\n",
    "single=set(nums)\n",
    "print(single)"
   ]
  },
  {
   "cell_type": "code",
   "execution_count": 27,
   "id": "fc4e48ff-1b4a-4db6-94af-77199696f244",
   "metadata": {},
   "outputs": [
    {
     "name": "stdout",
     "output_type": "stream",
     "text": [
      "x is a subset of y\n"
     ]
    }
   ],
   "source": [
    "x=set([1,2])\n",
    "y=set([1,2,3])\n",
    "if x.issubset(y):\n",
    "    print(\"x is a subset of y\")\n",
    "else :\n",
    "    print(\"y is a subset of x\")"
   ]
  },
  {
   "cell_type": "code",
   "execution_count": 33,
   "id": "6d0cb31a-7c3d-4f01-ab98-a3f52bcdf609",
   "metadata": {},
   "outputs": [
    {
     "name": "stdout",
     "output_type": "stream",
     "text": [
      "key for value:'india':name\n"
     ]
    }
   ],
   "source": [
    "info={\"name\":\"india\",\"num\":123}\n",
    "s=\"india\"\n",
    "for key,value in info.items():\n",
    "    if value==s:\n",
    "        print(f\"key for value:'{s}':{key}\")"
   ]
  },
  {
   "cell_type": "code",
   "execution_count": 35,
   "id": "2bbcc0f8-04ab-47f9-bf32-9fa459e7e843",
   "metadata": {},
   "outputs": [],
   "source": [
    "#type conversions"
   ]
  },
  {
   "cell_type": "code",
   "execution_count": null,
   "id": "c70616af-7557-4536-af53-9be63ebf7780",
   "metadata": {},
   "outputs": [],
   "source": [
    "x=2.353\n",
    "long(x)\n",
    "float(x)\n",
    "set(x)\n",
    "list(x)\n",
    "bin(x)\n",
    "ord(x)\n",
    "chr(x)\n",
    "hex(x)\n",
    "oct(x)\n"
   ]
  },
  {
   "cell_type": "code",
   "execution_count": 37,
   "id": "bc210fe6-604d-4650-a833-597419d71fe3",
   "metadata": {},
   "outputs": [
    {
     "ename": "SyntaxError",
     "evalue": "invalid syntax (192870030.py, line 2)",
     "output_type": "error",
     "traceback": [
      "\u001b[1;36m  Cell \u001b[1;32mIn[37], line 2\u001b[1;36m\u001b[0m\n\u001b[1;33m    **\u001b[0m\n\u001b[1;37m    ^\u001b[0m\n\u001b[1;31mSyntaxError\u001b[0m\u001b[1;31m:\u001b[0m invalid syntax\n"
     ]
    }
   ],
   "source": [
    "()\n",
    "**\n",
    "~ + -\n",
    "* / % //\n",
    "+ -\n",
    "<< >> ---\n",
    "&\n",
    "^ |\n",
    "<>  == != "
   ]
  },
  {
   "cell_type": "code",
   "execution_count": 41,
   "id": "9be3a423-3712-4f8d-843a-49176514cebd",
   "metadata": {},
   "outputs": [
    {
     "data": {
      "text/plain": [
       "1"
      ]
     },
     "execution_count": 41,
     "metadata": {},
     "output_type": "execute_result"
    }
   ],
   "source": [
    "5>>+2"
   ]
  },
  {
   "cell_type": "code",
   "execution_count": null,
   "id": "b1f353d7-e569-42ed-bf62-47858f08d07a",
   "metadata": {},
   "outputs": [],
   "source": []
  }
 ],
 "metadata": {
  "kernelspec": {
   "display_name": "Python 3 (ipykernel)",
   "language": "python",
   "name": "python3"
  },
  "language_info": {
   "codemirror_mode": {
    "name": "ipython",
    "version": 3
   },
   "file_extension": ".py",
   "mimetype": "text/x-python",
   "name": "python",
   "nbconvert_exporter": "python",
   "pygments_lexer": "ipython3",
   "version": "3.12.7"
  }
 },
 "nbformat": 4,
 "nbformat_minor": 5
}
