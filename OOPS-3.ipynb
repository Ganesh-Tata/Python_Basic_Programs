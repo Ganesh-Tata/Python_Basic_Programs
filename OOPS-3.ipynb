{
 "cells": [
  {
   "cell_type": "code",
   "execution_count": null,
   "id": "811f2b0e-c48c-4343-a50a-3e604a38b4a9",
   "metadata": {},
   "outputs": [],
   "source": [
    "'''\n",
    "single\n",
    "multiple\n",
    "multi-level\n",
    "hybrid\n",
    "meta-inheritance\n",
    "uses-\n",
    "reusability\n",
    "single ionheritance\n",
    "    parent\n",
    "       |\n",
    "    child\n",
    "'''"
   ]
  },
  {
   "cell_type": "code",
   "execution_count": 3,
   "id": "08b63bda-491a-4110-a131-f69752b12eb5",
   "metadata": {},
   "outputs": [
    {
     "name": "stdout",
     "output_type": "stream",
     "text": [
      "Engine started...\n",
      "The car is being drove...\n"
     ]
    }
   ],
   "source": [
    "class vehicle:\n",
    "    def start_engine(self):\n",
    "        print(\"Engine started...\")\n",
    "class car(vehicle):\n",
    "    def driven(self):\n",
    "        print(\"The car is being drove...\")\n",
    "\n",
    "c=car()\n",
    "c.start_engine()\n",
    "c.driven()"
   ]
  },
  {
   "cell_type": "code",
   "execution_count": 5,
   "id": "53aaa781-b8d2-4ae4-be30-72947a8d8099",
   "metadata": {},
   "outputs": [
    {
     "name": "stdout",
     "output_type": "stream",
     "text": [
      "I am a student\n",
      "The student is studying !!! \n"
     ]
    }
   ],
   "source": [
    "class person:\n",
    "    def info(self):\n",
    "        print(\"I am a student\")\n",
    "class student(person):\n",
    "    def study(self):\n",
    "        print(\"The student is studying !!! \")\n",
    "s=student()\n",
    "s.info()\n",
    "s.study()"
   ]
  },
  {
   "cell_type": "code",
   "execution_count": 7,
   "id": "e9e8004c-f263-4d69-84c1-0dd86108199d",
   "metadata": {},
   "outputs": [
    {
     "name": "stdin",
     "output_type": "stream",
     "text": [
      "Enter the num1: 3\n",
      "Enter the num2: 4\n"
     ]
    },
    {
     "name": "stdout",
     "output_type": "stream",
     "text": [
      "the result is 7\n"
     ]
    }
   ],
   "source": [
    "'''code to perform addition operation using super class as user input and subclass as operation\n",
    "print the summated value at subclass'''\n",
    "\n",
    "class operate:\n",
    "    def userdata(self):\n",
    "        self.num1=int(input(\"Enter the num1:\"))\n",
    "        self.num2=int(input(\"Enter the num2:\"))\n",
    "class summate(operate):\n",
    "    def add(self):\n",
    "        result=self.num1+self.num2\n",
    "        print(f\"the result is {result}\")\n",
    "c=summate()\n",
    "c.userdata()\n",
    "c.add()"
   ]
  },
  {
   "cell_type": "code",
   "execution_count": 13,
   "id": "98d52e3d-7bcb-4ae8-8acb-cea10b41eafc",
   "metadata": {},
   "outputs": [
    {
     "name": "stdin",
     "output_type": "stream",
     "text": [
      "Enter numerator 3\n",
      "Enter demoninator 0\n"
     ]
    },
    {
     "name": "stdout",
     "output_type": "stream",
     "text": [
      "zero division error\n"
     ]
    }
   ],
   "source": [
    "'''code to calculate noraml division by considering input in superclass\n",
    "and evaluation in sub class, where zero division error must be handled.'''\n",
    "class cal:\n",
    "    def userdata(self):\n",
    "        self.num1=int(input(\"Enter numerator\"))\n",
    "        self.num2=int(input(\"Enter demoninator\"))\n",
    "class div_cal(cal):\n",
    "    def div(self):\n",
    "        try:\n",
    "            result=self.num1/self.num2\n",
    "            print(result)\n",
    "        except ZeroDivisionError:\n",
    "            print(\"zero division error\")\n",
    "c=div_cal()\n",
    "c.userdata()\n",
    "c.div()"
   ]
  },
  {
   "cell_type": "code",
   "execution_count": 25,
   "id": "63653b08-29b2-4a84-8520-73f4d7d077ca",
   "metadata": {},
   "outputs": [
    {
     "name": "stdin",
     "output_type": "stream",
     "text": [
      " 153\n"
     ]
    },
    {
     "name": "stdout",
     "output_type": "stream",
     "text": [
      "it is a armstrong number\n"
     ]
    }
   ],
   "source": [
    "number=int(input())\n",
    "num_str = str(number)\n",
    "num_digits = len(num_str)\n",
    "sum_of_powers = 0\n",
    "temp_num = number\n",
    "\n",
    "for digit_char in num_str:\n",
    "    digit = int(digit_char)\n",
    "    sum_of_powers += digit ** num_digits\n",
    "\n",
    "if sum_of_powers==number:\n",
    "    print(\"it is a armstrong number\")\n",
    "else:\n",
    "    print(\"it is not a armstrong number\")"
   ]
  },
  {
   "cell_type": "code",
   "execution_count": 37,
   "id": "48488a81-2859-4588-a803-b20dc99e0521",
   "metadata": {},
   "outputs": [
    {
     "name": "stdin",
     "output_type": "stream",
     "text": [
      "Enter name: ganesh\n",
      "enter employee id: 4f7\n",
      "Enter department: ece\n"
     ]
    },
    {
     "name": "stdout",
     "output_type": "stream",
     "text": [
      "Name:ganesh\n",
      "Employee ID:4f7\n",
      "Department:ece\n"
     ]
    }
   ],
   "source": [
    "class intern: #super\n",
    "    def __init__(self,name):\n",
    "        self.name=name\n",
    "    def display_intern(self):\n",
    "        print(f\"Name:{self.name}\")\n",
    "        \n",
    "class employee(intern): #class\n",
    "    def __init__(self,name,emp_id):\n",
    "        super().__init__(name)\n",
    "        self.emp_id=emp_id\n",
    "    def display_employee(self):\n",
    "        print(f\"Employee ID:{self.emp_id}\")\n",
    "        \n",
    "class manager(employee): #sub class\n",
    "    def __init__(self,name,emp_id,dept):\n",
    "        super().__init__(name,emp_id)\n",
    "        self.dept=dept\n",
    "    def display_manager(self):\n",
    "        print(f\"Department:{self.dept}\")\n",
    "    \n",
    "name=input(\"Enter name:\")\n",
    "emp_id=input(\"enter employee id:\")\n",
    "dept=input(\"Enter department:\")\n",
    "m=manager(name,emp_id,dept)\n",
    "m.display_intern() \n",
    "m.display_employee()\n",
    "m.display_manager()\n"
   ]
  },
  {
   "cell_type": "code",
   "execution_count": 43,
   "id": "5d4e854e-0a64-42a2-9082-ca95e633e954",
   "metadata": {},
   "outputs": [
    {
     "ename": "TypeError",
     "evalue": "descriptor '__init__' of 'super' object needs an argument",
     "output_type": "error",
     "traceback": [
      "\u001b[1;31m---------------------------------------------------------------------------\u001b[0m",
      "\u001b[1;31mTypeError\u001b[0m                                 Traceback (most recent call last)",
      "Cell \u001b[1;32mIn[43], line 18\u001b[0m\n\u001b[0;32m     16\u001b[0m         \u001b[38;5;28mprint\u001b[39m(\u001b[38;5;124mf\u001b[39m\u001b[38;5;124m\"\u001b[39m\u001b[38;5;124msum:\u001b[39m\u001b[38;5;132;01m{\u001b[39;00m\u001b[38;5;28mself\u001b[39m\u001b[38;5;241m.\u001b[39madd()\u001b[38;5;132;01m}\u001b[39;00m\u001b[38;5;124m\"\u001b[39m)\n\u001b[0;32m     17\u001b[0m         \u001b[38;5;28mprint\u001b[39m(\u001b[38;5;124mf\u001b[39m\u001b[38;5;124m\"\u001b[39m\u001b[38;5;124mmul:\u001b[39m\u001b[38;5;132;01m{\u001b[39;00m\u001b[38;5;28mself\u001b[39m\u001b[38;5;241m.\u001b[39mmul()\u001b[38;5;132;01m}\u001b[39;00m\u001b[38;5;124m\"\u001b[39m)\n\u001b[1;32m---> 18\u001b[0m r\u001b[38;5;241m=\u001b[39mresult()\n\u001b[0;32m     19\u001b[0m r\u001b[38;5;241m.\u001b[39mdisplay()\n",
      "Cell \u001b[1;32mIn[43], line 14\u001b[0m, in \u001b[0;36mresult.__init__\u001b[1;34m(self)\u001b[0m\n\u001b[0;32m     13\u001b[0m \u001b[38;5;28;01mdef\u001b[39;00m \u001b[38;5;21m__init__\u001b[39m(\u001b[38;5;28mself\u001b[39m):\n\u001b[1;32m---> 14\u001b[0m     \u001b[38;5;28msuper\u001b[39m\u001b[38;5;241m.\u001b[39m\u001b[38;5;21m__init__\u001b[39m()\n",
      "\u001b[1;31mTypeError\u001b[0m: descriptor '__init__' of 'super' object needs an argument"
     ]
    }
   ],
   "source": [
    "class input:\n",
    "    def __init__(self):\n",
    "        self.num1=float(input(\"Enter num1:\"))\n",
    "        self.num2=float(input(\"Enter num2:\"))\n",
    "class operate(input):\n",
    "    def __init__(self):\n",
    "        super.__init__()\n",
    "        def add(self):\n",
    "            return self.num1+self.num2\n",
    "        def mul(self):\n",
    "            return self.num1*num2\n",
    "class result(operate):\n",
    "    def __init__(self):\n",
    "        super.__init__()\n",
    "    def display(self):\n",
    "        print(f\"sum:{self.add()}\")\n",
    "        print(f\"mul:{self.mul()}\")\n",
    "r=result()\n",
    "r.display()"
   ]
  },
  {
   "cell_type": "code",
   "execution_count": null,
   "id": "b66ae47f-cfb1-424a-8865-f3145049aae3",
   "metadata": {},
   "outputs": [],
   "source": []
  },
  {
   "cell_type": "code",
   "execution_count": null,
   "id": "f7ccf343-632c-4bed-9d13-e87faa1cc101",
   "metadata": {},
   "outputs": [],
   "source": []
  }
 ],
 "metadata": {
  "kernelspec": {
   "display_name": "Python 3 (ipykernel)",
   "language": "python",
   "name": "python3"
  },
  "language_info": {
   "codemirror_mode": {
    "name": "ipython",
    "version": 3
   },
   "file_extension": ".py",
   "mimetype": "text/x-python",
   "name": "python",
   "nbconvert_exporter": "python",
   "pygments_lexer": "ipython3",
   "version": "3.12.7"
  }
 },
 "nbformat": 4,
 "nbformat_minor": 5
}
